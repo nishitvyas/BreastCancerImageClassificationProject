{
 "cells": [
  {
   "cell_type": "markdown",
   "id": "OcINssaaMve1",
   "metadata": {
    "id": "OcINssaaMve1"
   },
   "source": [
    "### Creating Relevant Folders Using Labels csv file"
   ]
  },
  {
   "cell_type": "code",
   "execution_count": 1,
   "id": "69defb32",
   "metadata": {},
   "outputs": [],
   "source": [
    "import numpy as np\n",
    "import matplotlib.pyplot as plt\n",
    "import os\n",
    "import math\n",
    "import shutil\n",
    "import glob"
   ]
  },
  {
   "cell_type": "code",
   "execution_count": null,
   "id": "2d24c1f7",
   "metadata": {},
   "outputs": [],
   "source": [
    "import shutil, os\n",
    "import pandas as pd\n",
    "\n",
    "# read label\n",
    "labels = pd.read_csv(\"newlabels.csv\")\n",
    "# sort label\n",
    "labels = labels.sort_values('label')\n",
    "\n",
    "labels['label'] = labels['label'].astype(str)\n",
    "\n",
    "# take unique labels\n",
    "class_names = list(labels.label.unique())\n",
    "\n",
    "#creating subfolders\n",
    "for i in class_names:\n",
    "    os.makedirs(os.path.join('train2_', i))\n",
    "\n",
    "for c in class_names:\n",
    "    for i in list(labels[labels['label']==c]['id']):\n",
    "\n",
    "        #create path to the image \n",
    "        get_image = os.path.join('train2',i)\n",
    "\n",
    "        #If image has not already exist in the new folder create one        \n",
    "        if not os.path.exists('train2_/'+c+i):\n",
    "            # move the image \n",
    "            move_image_to_cat = shutil.move(get_image,'train2_/'+c)"
   ]
  },
  {
   "cell_type": "code",
   "execution_count": null,
   "id": "4892251c",
   "metadata": {},
   "outputs": [],
   "source": [
    "number_of_images = {}\n",
    "\n",
    "for dir in os.listdir(\"train2_\"):\n",
    "    number_of_images[dir] = len(os.listdir(os.path.join('train2_', dir)))"
   ]
  },
  {
   "cell_type": "code",
   "execution_count": null,
   "id": "fabb01e8",
   "metadata": {},
   "outputs": [],
   "source": [
    "number_of_images.items()"
   ]
  },
  {
   "cell_type": "code",
   "execution_count": null,
   "id": "882a9873",
   "metadata": {},
   "outputs": [],
   "source": [
    "# defining a function for splitting data between train, test and validation sets\n",
    "def dataFolder(path, split):\n",
    "    \n",
    "    if not os.path.exists(\"./\"+path):\n",
    "        os.mkdir(\"./\"+path)\n",
    "        \n",
    "        for dir in os.listdir('train2_'):\n",
    "            os.makedirs(\"./\"+path+\"/\"+dir)\n",
    "            \n",
    "            for img in np.random.choice(a = os.listdir(os.path.join(\"train2_\", dir)),\n",
    "                                       size = (math.floor(split*number_of_images[dir]) - 2),\n",
    "                                       replace = False):\n",
    "                O = os.path.join(\"train2_\", dir, img)\n",
    "                D = os.path.join(\"./\" + path, dir)\n",
    "                shutil.copy(O,D)\n",
    "                os.remove(O)\n",
    "    else:\n",
    "        print( f\"{path} Folder Already Exists\")"
   ]
  },
  {
   "cell_type": "code",
   "execution_count": null,
   "id": "d674ff0e",
   "metadata": {},
   "outputs": [],
   "source": [
    "dataFolder(\"Train\", 0.7)"
   ]
  },
  {
   "cell_type": "code",
   "execution_count": null,
   "id": "bc8cb669",
   "metadata": {},
   "outputs": [],
   "source": [
    "dataFolder(\"Val\", 0.15)"
   ]
  },
  {
   "cell_type": "code",
   "execution_count": null,
   "id": "14e8f3ba",
   "metadata": {},
   "outputs": [],
   "source": [
    "dataFolder(\"Test\", 0.15)"
   ]
  },
  {
   "cell_type": "markdown",
   "id": "781f1d92",
   "metadata": {},
   "source": [
    "### CNN Using Keras"
   ]
  },
  {
   "cell_type": "code",
   "execution_count": 3,
   "id": "4718926f",
   "metadata": {},
   "outputs": [],
   "source": [
    "import keras\n",
    "from keras.layers import Conv2D, MaxPool2D, Dropout, Flatten, Dense, BatchNormalization, GlobalAvgPool2D\n",
    "from keras.models import Sequential\n",
    "#from keras.preprocessing.image import \n",
    "from keras_preprocessing.image import ImageDataGenerator"
   ]
  },
  {
   "cell_type": "code",
   "execution_count": 4,
   "id": "9d2ce84f",
   "metadata": {},
   "outputs": [
    {
     "name": "stdout",
     "output_type": "stream",
     "text": [
      "Model: \"sequential\"\n",
      "_________________________________________________________________\n",
      " Layer (type)                Output Shape              Param #   \n",
      "=================================================================\n",
      " conv2d (Conv2D)             (None, 96, 96, 16)        448       \n",
      "                                                                 \n",
      " conv2d_1 (Conv2D)           (None, 96, 96, 36)        5220      \n",
      "                                                                 \n",
      " max_pooling2d (MaxPooling2D  (None, 48, 48, 36)       0         \n",
      " )                                                               \n",
      "                                                                 \n",
      " conv2d_2 (Conv2D)           (None, 48, 48, 64)        20800     \n",
      "                                                                 \n",
      " max_pooling2d_1 (MaxPooling  (None, 24, 24, 64)       0         \n",
      " 2D)                                                             \n",
      "                                                                 \n",
      " conv2d_3 (Conv2D)           (None, 24, 24, 128)       73856     \n",
      "                                                                 \n",
      " max_pooling2d_2 (MaxPooling  (None, 12, 12, 128)      0         \n",
      " 2D)                                                             \n",
      "                                                                 \n",
      " dropout (Dropout)           (None, 12, 12, 128)       0         \n",
      "                                                                 \n",
      " flatten (Flatten)           (None, 18432)             0         \n",
      "                                                                 \n",
      " dense (Dense)               (None, 64)                1179712   \n",
      "                                                                 \n",
      " dropout_1 (Dropout)         (None, 64)                0         \n",
      "                                                                 \n",
      " dense_1 (Dense)             (None, 1)                 65        \n",
      "                                                                 \n",
      "=================================================================\n",
      "Total params: 1,280,101\n",
      "Trainable params: 1,280,101\n",
      "Non-trainable params: 0\n",
      "_________________________________________________________________\n"
     ]
    }
   ],
   "source": [
    "#CNN Model\n",
    "\n",
    "model = Sequential()\n",
    "\n",
    "model.add(Conv2D(filters = 16, kernel_size = (3,3), activation = 'relu', input_shape = (96,96,3), padding = 'same'))\n",
    "\n",
    "model.add(Conv2D(filters = 36, kernel_size = (3,3), activation = 'relu', padding = 'same'))\n",
    "model.add(MaxPool2D(pool_size=(2,2)))\n",
    "\n",
    "model.add(Conv2D(filters = 64, kernel_size = (3,3), activation = 'relu', padding = 'same'))\n",
    "model.add(MaxPool2D(pool_size=(2,2)))\n",
    "\n",
    "model.add(Conv2D(filters = 128, kernel_size = (3,3), activation = 'relu', padding = 'same'))\n",
    "model.add(MaxPool2D(pool_size=(2,2)))\n",
    "\n",
    "model.add(Dropout(rate = 0.25))\n",
    "\n",
    "model.add(Flatten())\n",
    "model.add(Dense(units = 64, activation = 'relu'))\n",
    "\n",
    "model.add(Dropout(rate = 0.25))\n",
    "\n",
    "model.add(Dense(units = 1, activation = 'sigmoid'))\n",
    "\n",
    "model.summary()"
   ]
  },
  {
   "cell_type": "code",
   "execution_count": 5,
   "id": "8765002b",
   "metadata": {},
   "outputs": [],
   "source": [
    "model.compile(optimizer = 'adam', loss = keras.losses.binary_crossentropy, metrics=['accuracy'])"
   ]
  },
  {
   "cell_type": "code",
   "execution_count": 6,
   "id": "3c03e681",
   "metadata": {},
   "outputs": [],
   "source": [
    "def imagePreprocessor1(path):\n",
    "    \"\"\"\n",
    "    input : Path\n",
    "    output : Pre Processed Images\n",
    "    \n",
    "    \"\"\"\n",
    "    \n",
    "    image_data = ImageDataGenerator(zoom_range = 0.2, shear_range = 0.2, rescale = 1/255, horizontal_flip = True)\n",
    "    image = image_data.flow_from_directory(directory = path, target_size = (96,96), batch_size = 32, class_mode = 'binary')\n",
    "    \n",
    "    return image"
   ]
  },
  {
   "cell_type": "code",
   "execution_count": 7,
   "id": "45ff8228",
   "metadata": {
    "scrolled": true
   },
   "outputs": [
    {
     "name": "stdout",
     "output_type": "stream",
     "text": [
      "Found 607 images belonging to 2 classes.\n"
     ]
    }
   ],
   "source": [
    "dataPath = \"Train\"\n",
    "train_data = imagePreprocessor1(dataPath)"
   ]
  },
  {
   "cell_type": "code",
   "execution_count": 8,
   "id": "85564836",
   "metadata": {},
   "outputs": [],
   "source": [
    "def imagePreprocessor2(path):\n",
    "    \"\"\"\n",
    "    input : Path\n",
    "    output : Pre Processed Images\n",
    "    \n",
    "    \"\"\"\n",
    "    \n",
    "    image_data = ImageDataGenerator(rescale = 1/255)\n",
    "    image = image_data.flow_from_directory(directory = path, target_size = (96,96), batch_size = 32, class_mode = 'binary')\n",
    "    \n",
    "    return image"
   ]
  },
  {
   "cell_type": "code",
   "execution_count": 9,
   "id": "0f24a5a9",
   "metadata": {},
   "outputs": [
    {
     "name": "stdout",
     "output_type": "stream",
     "text": [
      "Found 126 images belonging to 2 classes.\n"
     ]
    }
   ],
   "source": [
    "dataPath = \"Test\"\n",
    "test_data = imagePreprocessor2(dataPath)"
   ]
  },
  {
   "cell_type": "code",
   "execution_count": 10,
   "id": "7c863357",
   "metadata": {},
   "outputs": [
    {
     "name": "stdout",
     "output_type": "stream",
     "text": [
      "Found 126 images belonging to 2 classes.\n"
     ]
    }
   ],
   "source": [
    "dataPath = \"Val\"\n",
    "val_data = imagePreprocessor2(dataPath)"
   ]
  },
  {
   "cell_type": "code",
   "execution_count": 24,
   "id": "21737fb4",
   "metadata": {},
   "outputs": [],
   "source": [
    "# EarlyStopping and Model Checkpoint\n",
    "\n",
    "from keras.callbacks import ModelCheckpoint, EarlyStopping\n",
    "\n",
    "#Early Stopping\n",
    "\n",
    "es = EarlyStopping(monitor = \"val_accuracy\", min_delta = 0.01, patience = 20, verbose = 1, mode = 'auto')\n",
    "\n",
    "# Model Checkpoint\n",
    "\n",
    "mc = ModelCheckpoint(monitor = \"val_accuracy\", filepath = \"./bestmodel.h5\", verbose = 1, save_best_only = True, mode = 'auto')\n",
    "\n",
    "cb = [mc, es]"
   ]
  },
  {
   "cell_type": "code",
   "execution_count": 25,
   "id": "a027645a",
   "metadata": {
    "scrolled": true
   },
   "outputs": [
    {
     "name": "stdout",
     "output_type": "stream",
     "text": [
      "Epoch 1/30\n"
     ]
    },
    {
     "name": "stderr",
     "output_type": "stream",
     "text": [
      "C:\\Users\\vgare\\AppData\\Local\\Temp\\ipykernel_56408\\4045340534.py:1: UserWarning: `Model.fit_generator` is deprecated and will be removed in a future version. Please use `Model.fit`, which supports generators.\n",
      "  hs = model.fit_generator(generator = train_data, epochs = 30, verbose = 1, validation_data = val_data, callbacks = cb)\n"
     ]
    },
    {
     "name": "stdout",
     "output_type": "stream",
     "text": [
      "19/19 [==============================] - ETA: 0s - loss: 0.1658 - accuracy: 0.9390\n",
      "Epoch 1: val_accuracy improved from -inf to 0.70635, saving model to .\\bestmodel.h5\n",
      "19/19 [==============================] - 5s 276ms/step - loss: 0.1658 - accuracy: 0.9390 - val_loss: 1.0485 - val_accuracy: 0.7063\n",
      "Epoch 2/30\n",
      "19/19 [==============================] - ETA: 0s - loss: 0.1728 - accuracy: 0.9176\n",
      "Epoch 2: val_accuracy did not improve from 0.70635\n",
      "19/19 [==============================] - 4s 230ms/step - loss: 0.1728 - accuracy: 0.9176 - val_loss: 0.9154 - val_accuracy: 0.7063\n",
      "Epoch 3/30\n",
      "19/19 [==============================] - ETA: 0s - loss: 0.1267 - accuracy: 0.9555\n",
      "Epoch 3: val_accuracy improved from 0.70635 to 0.71429, saving model to .\\bestmodel.h5\n",
      "19/19 [==============================] - 4s 213ms/step - loss: 0.1267 - accuracy: 0.9555 - val_loss: 0.9957 - val_accuracy: 0.7143\n",
      "Epoch 4/30\n",
      "19/19 [==============================] - ETA: 0s - loss: 0.1079 - accuracy: 0.9588\n",
      "Epoch 4: val_accuracy improved from 0.71429 to 0.72222, saving model to .\\bestmodel.h5\n",
      "19/19 [==============================] - 4s 216ms/step - loss: 0.1079 - accuracy: 0.9588 - val_loss: 1.0757 - val_accuracy: 0.7222\n",
      "Epoch 5/30\n",
      "19/19 [==============================] - ETA: 0s - loss: 0.1178 - accuracy: 0.9638\n",
      "Epoch 5: val_accuracy improved from 0.72222 to 0.73810, saving model to .\\bestmodel.h5\n",
      "19/19 [==============================] - 4s 211ms/step - loss: 0.1178 - accuracy: 0.9638 - val_loss: 0.8634 - val_accuracy: 0.7381\n",
      "Epoch 6/30\n",
      "19/19 [==============================] - ETA: 0s - loss: 0.1090 - accuracy: 0.9605\n",
      "Epoch 6: val_accuracy did not improve from 0.73810\n",
      "19/19 [==============================] - 4s 220ms/step - loss: 0.1090 - accuracy: 0.9605 - val_loss: 1.1304 - val_accuracy: 0.7381\n",
      "Epoch 7/30\n",
      "19/19 [==============================] - ETA: 0s - loss: 0.1505 - accuracy: 0.9440\n",
      "Epoch 7: val_accuracy did not improve from 0.73810\n",
      "19/19 [==============================] - 4s 218ms/step - loss: 0.1505 - accuracy: 0.9440 - val_loss: 1.0422 - val_accuracy: 0.7143\n",
      "Epoch 8/30\n",
      "19/19 [==============================] - ETA: 0s - loss: 0.1396 - accuracy: 0.9456\n",
      "Epoch 8: val_accuracy did not improve from 0.73810\n",
      "19/19 [==============================] - 4s 212ms/step - loss: 0.1396 - accuracy: 0.9456 - val_loss: 1.1805 - val_accuracy: 0.7302\n",
      "Epoch 9/30\n",
      "19/19 [==============================] - ETA: 0s - loss: 0.1247 - accuracy: 0.9522\n",
      "Epoch 9: val_accuracy did not improve from 0.73810\n",
      "19/19 [==============================] - 4s 217ms/step - loss: 0.1247 - accuracy: 0.9522 - val_loss: 1.0662 - val_accuracy: 0.7302\n",
      "Epoch 10/30\n",
      "19/19 [==============================] - ETA: 0s - loss: 0.0984 - accuracy: 0.9654\n",
      "Epoch 10: val_accuracy improved from 0.73810 to 0.74603, saving model to .\\bestmodel.h5\n",
      "19/19 [==============================] - 4s 213ms/step - loss: 0.0984 - accuracy: 0.9654 - val_loss: 1.1126 - val_accuracy: 0.7460\n",
      "Epoch 11/30\n",
      "19/19 [==============================] - ETA: 0s - loss: 0.0815 - accuracy: 0.9786\n",
      "Epoch 11: val_accuracy did not improve from 0.74603\n",
      "19/19 [==============================] - 4s 228ms/step - loss: 0.0815 - accuracy: 0.9786 - val_loss: 1.4745 - val_accuracy: 0.7222\n",
      "Epoch 12/30\n",
      "19/19 [==============================] - ETA: 0s - loss: 0.0771 - accuracy: 0.9703\n",
      "Epoch 12: val_accuracy did not improve from 0.74603\n",
      "19/19 [==============================] - 4s 221ms/step - loss: 0.0771 - accuracy: 0.9703 - val_loss: 1.1432 - val_accuracy: 0.7222\n",
      "Epoch 13/30\n",
      "19/19 [==============================] - ETA: 0s - loss: 0.1048 - accuracy: 0.9588\n",
      "Epoch 13: val_accuracy did not improve from 0.74603\n",
      "19/19 [==============================] - 4s 211ms/step - loss: 0.1048 - accuracy: 0.9588 - val_loss: 1.7242 - val_accuracy: 0.7143\n",
      "Epoch 14/30\n",
      "19/19 [==============================] - ETA: 0s - loss: 0.1000 - accuracy: 0.9753\n",
      "Epoch 14: val_accuracy did not improve from 0.74603\n",
      "19/19 [==============================] - 4s 211ms/step - loss: 0.1000 - accuracy: 0.9753 - val_loss: 1.1519 - val_accuracy: 0.7302\n",
      "Epoch 15/30\n",
      "19/19 [==============================] - ETA: 0s - loss: 0.0867 - accuracy: 0.9621\n",
      "Epoch 15: val_accuracy did not improve from 0.74603\n",
      "19/19 [==============================] - 4s 229ms/step - loss: 0.0867 - accuracy: 0.9621 - val_loss: 1.2543 - val_accuracy: 0.7143\n",
      "Epoch 16/30\n",
      "19/19 [==============================] - ETA: 0s - loss: 0.1122 - accuracy: 0.9671\n",
      "Epoch 16: val_accuracy did not improve from 0.74603\n",
      "19/19 [==============================] - 4s 211ms/step - loss: 0.1122 - accuracy: 0.9671 - val_loss: 1.1176 - val_accuracy: 0.7381\n",
      "Epoch 17/30\n",
      "19/19 [==============================] - ETA: 0s - loss: 0.0800 - accuracy: 0.9736\n",
      "Epoch 17: val_accuracy did not improve from 0.74603\n",
      "19/19 [==============================] - 4s 218ms/step - loss: 0.0800 - accuracy: 0.9736 - val_loss: 1.3006 - val_accuracy: 0.7143\n",
      "Epoch 18/30\n",
      "19/19 [==============================] - ETA: 0s - loss: 0.1245 - accuracy: 0.9506\n",
      "Epoch 18: val_accuracy did not improve from 0.74603\n",
      "19/19 [==============================] - 5s 264ms/step - loss: 0.1245 - accuracy: 0.9506 - val_loss: 1.5764 - val_accuracy: 0.6746\n",
      "Epoch 19/30\n",
      "19/19 [==============================] - ETA: 0s - loss: 0.1122 - accuracy: 0.9588\n",
      "Epoch 19: val_accuracy did not improve from 0.74603\n",
      "19/19 [==============================] - 6s 294ms/step - loss: 0.1122 - accuracy: 0.9588 - val_loss: 1.0266 - val_accuracy: 0.7381\n",
      "Epoch 20/30\n",
      "19/19 [==============================] - ETA: 0s - loss: 0.0668 - accuracy: 0.9753\n",
      "Epoch 20: val_accuracy did not improve from 0.74603\n",
      "19/19 [==============================] - 5s 272ms/step - loss: 0.0668 - accuracy: 0.9753 - val_loss: 1.2132 - val_accuracy: 0.7143\n",
      "Epoch 21/30\n",
      "19/19 [==============================] - ETA: 0s - loss: 0.0789 - accuracy: 0.9621\n",
      "Epoch 21: val_accuracy did not improve from 0.74603\n",
      "19/19 [==============================] - 5s 269ms/step - loss: 0.0789 - accuracy: 0.9621 - val_loss: 1.9225 - val_accuracy: 0.7381\n",
      "Epoch 22/30\n",
      "19/19 [==============================] - ETA: 0s - loss: 0.0818 - accuracy: 0.9720\n",
      "Epoch 22: val_accuracy did not improve from 0.74603\n",
      "19/19 [==============================] - 6s 297ms/step - loss: 0.0818 - accuracy: 0.9720 - val_loss: 1.7381 - val_accuracy: 0.6984\n",
      "Epoch 23/30\n",
      "19/19 [==============================] - ETA: 0s - loss: 0.0698 - accuracy: 0.9786\n",
      "Epoch 23: val_accuracy did not improve from 0.74603\n",
      "19/19 [==============================] - 5s 260ms/step - loss: 0.0698 - accuracy: 0.9786 - val_loss: 1.3287 - val_accuracy: 0.7143\n",
      "Epoch 24/30\n",
      "19/19 [==============================] - ETA: 0s - loss: 0.0719 - accuracy: 0.9819\n",
      "Epoch 24: val_accuracy did not improve from 0.74603\n",
      "19/19 [==============================] - 4s 229ms/step - loss: 0.0719 - accuracy: 0.9819 - val_loss: 1.4837 - val_accuracy: 0.7222\n",
      "Epoch 25/30\n",
      "19/19 [==============================] - ETA: 0s - loss: 0.0565 - accuracy: 0.9802\n",
      "Epoch 25: val_accuracy did not improve from 0.74603\n",
      "19/19 [==============================] - 5s 241ms/step - loss: 0.0565 - accuracy: 0.9802 - val_loss: 1.5868 - val_accuracy: 0.7143\n",
      "Epoch 25: early stopping\n"
     ]
    }
   ],
   "source": [
    "hs = model.fit_generator(generator = train_data, epochs = 30, verbose = 1, validation_data = val_data, callbacks = cb)"
   ]
  },
  {
   "cell_type": "markdown",
   "id": "9d71689e",
   "metadata": {},
   "source": [
    "After running the above model we have a great training accuracy of 96% and the validation accuracy also improved to 74.6% over multiple epochs. We used zoom_range, shear_range, horizontal_flip and rescaling(normalization) as data augmentation endevours.\n",
    "\n",
    "In the next segment we try to produce an ideal model for Breast Cancer Image Detection using PyTorch."
   ]
  },
  {
   "cell_type": "markdown",
   "id": "b956ad9c",
   "metadata": {},
   "source": [
    "### CNN Using Pytorch"
   ]
  },
  {
   "cell_type": "code",
   "execution_count": 182,
   "id": "5b41fe0a",
   "metadata": {},
   "outputs": [],
   "source": [
    "import time\n",
    "import copy\n",
    "import glob\n",
    "import random\n",
    "\n",
    "import pandas as pd\n",
    "import numpy as np\n",
    "from PIL import Image\n",
    "\n",
    "from tqdm.auto import tqdm\n",
    "from matplotlib import pyplot as plt\n",
    "from sklearn.model_selection import train_test_split\n",
    "\n",
    "import torch\n",
    "import torch.nn as nn\n",
    "from torch.optim import Adam\n",
    "from torch.utils.data import Dataset, DataLoader\n",
    "from torchvision import transforms\n",
    "from torchvision.models import resnet18, resnet34\n",
    "\n",
    "from sklearn.metrics import classification_report"
   ]
  },
  {
   "cell_type": "code",
   "execution_count": 183,
   "id": "c8fc770f",
   "metadata": {},
   "outputs": [],
   "source": [
    "train_normal = glob.glob(\"./Train/0/*\")\n",
    "train_cancer = glob.glob(\"./Train/1/*\")\n",
    "\n",
    "test_normal = glob.glob(\"./Test/0/*\")\n",
    "test_cancer = glob.glob(\"./Test/1/*\")"
   ]
  },
  {
   "cell_type": "code",
   "execution_count": 184,
   "id": "6ecf23c3",
   "metadata": {},
   "outputs": [],
   "source": [
    "train_paths = train_normal + train_cancer\n",
    "test_paths = test_normal + test_cancer"
   ]
  },
  {
   "cell_type": "code",
   "execution_count": 185,
   "id": "00630584",
   "metadata": {},
   "outputs": [],
   "source": [
    "train_labels = [0] * len(train_normal) + [1] * len(train_cancer)\n",
    "test_labels = [0] * len(test_normal) + [1] * len(test_cancer)"
   ]
  },
  {
   "cell_type": "code",
   "execution_count": 186,
   "id": "aaf1508a",
   "metadata": {},
   "outputs": [
    {
     "name": "stdout",
     "output_type": "stream",
     "text": [
      "607 607\n",
      "126 126\n"
     ]
    }
   ],
   "source": [
    "print(len(train_paths), len(train_labels))\n",
    "print(len(test_paths), len(test_labels))"
   ]
  },
  {
   "cell_type": "code",
   "execution_count": 187,
   "id": "41acf377",
   "metadata": {},
   "outputs": [],
   "source": [
    "train_paths, valid_paths, train_labels, valid_labels = train_test_split(train_paths, train_labels, stratify = train_labels)"
   ]
  },
  {
   "cell_type": "code",
   "execution_count": 188,
   "id": "fd003e81",
   "metadata": {},
   "outputs": [
    {
     "data": {
      "text/plain": [
       "152"
      ]
     },
     "execution_count": 188,
     "metadata": {},
     "output_type": "execute_result"
    }
   ],
   "source": [
    "len(valid_paths)"
   ]
  },
  {
   "cell_type": "code",
   "execution_count": 189,
   "id": "5ec6324e",
   "metadata": {},
   "outputs": [],
   "source": [
    "def show_random_images():\n",
    "    path_random_normal = random.choice(train_normal)\n",
    "    path_random_cancer = random.choice(train_cancer)\n",
    "    \n",
    "    fig = plt.figure(figsize = (5,5))\n",
    "    \n",
    "    ax1 = plt.subplot (1 , 2 , 1)\n",
    "    ax1.imshow(Image.open(path_random_normal).convert(\"LA\"))\n",
    "    ax1.set_title(\"Normal Scan\")\n",
    "    \n",
    "    ax2 = plt.subplot (1 , 2 , 2)\n",
    "    ax2.imshow(Image.open(path_random_cancer).convert(\"LA\"))\n",
    "    ax2.set_title(\"Cancer Scan\")"
   ]
  },
  {
   "cell_type": "code",
   "execution_count": 190,
   "id": "192bab8d",
   "metadata": {},
   "outputs": [
    {
     "data": {
      "image/png": "[encoded data removed]",
      "text/plain": [
       "<Figure size 500x500 with 2 Axes>"
      ]
     },
     "metadata": {},
     "output_type": "display_data"
    }
   ],
   "source": [
    "show_random_images()"
   ]
  },
  {
   "cell_type": "code",
   "execution_count": 225,
   "id": "d1fda853",
   "metadata": {},
   "outputs": [],
   "source": [
    "class BreastScanDataset(Dataset):\n",
    "    def __init__(self, paths, labels, transform = None):\n",
    "        self.paths = paths\n",
    "        self.labels = labels\n",
    "        self.transform = transform\n",
    "        \n",
    "    def __len__(self):\n",
    "        return len(self.paths)\n",
    "    \n",
    "    def __getitem__(self, index):\n",
    "        path = self.paths[index]\n",
    "        image = Image.open(path).convert(\"RGB\")\n",
    "        \n",
    "        if self.transform:\n",
    "            image = self.transform(image)\n",
    "            \n",
    "        label = self.labels[index]\n",
    "        label = torch.tensor([label])\n",
    "        \n",
    "        return image, label"
   ]
  },
  {
   "cell_type": "code",
   "execution_count": 226,
   "id": "73974f5d",
   "metadata": {},
   "outputs": [],
   "source": [
    "train_dataset = BreastScanDataset(train_paths, train_labels)"
   ]
  },
  {
   "cell_type": "code",
   "execution_count": 229,
   "id": "a9e3e333",
   "metadata": {},
   "outputs": [
    {
     "data": {
      "text/plain": [
       "ResNet(\n",
       "  (conv1): Conv2d(3, 64, kernel_size=(7, 7), stride=(2, 2), padding=(3, 3), bias=False)\n",
       "  (bn1): BatchNorm2d(64, eps=1e-05, momentum=0.1, affine=True, track_running_stats=True)\n",
       "  (relu): ReLU(inplace=True)\n",
       "  (maxpool): MaxPool2d(kernel_size=3, stride=2, padding=1, dilation=1, ceil_mode=False)\n",
       "  (layer1): Sequential(\n",
       "    (0): BasicBlock(\n",
       "      (conv1): Conv2d(64, 64, kernel_size=(3, 3), stride=(1, 1), padding=(1, 1), bias=False)\n",
       "      (bn1): BatchNorm2d(64, eps=1e-05, momentum=0.1, affine=True, track_running_stats=True)\n",
       "      (relu): ReLU(inplace=True)\n",
       "      (conv2): Conv2d(64, 64, kernel_size=(3, 3), stride=(1, 1), padding=(1, 1), bias=False)\n",
       "      (bn2): BatchNorm2d(64, eps=1e-05, momentum=0.1, affine=True, track_running_stats=True)\n",
       "    )\n",
       "    (1): BasicBlock(\n",
       "      (conv1): Conv2d(64, 64, kernel_size=(3, 3), stride=(1, 1), padding=(1, 1), bias=False)\n",
       "      (bn1): BatchNorm2d(64, eps=1e-05, momentum=0.1, affine=True, track_running_stats=True)\n",
       "      (relu): ReLU(inplace=True)\n",
       "      (conv2): Conv2d(64, 64, kernel_size=(3, 3), stride=(1, 1), padding=(1, 1), bias=False)\n",
       "      (bn2): BatchNorm2d(64, eps=1e-05, momentum=0.1, affine=True, track_running_stats=True)\n",
       "    )\n",
       "  )\n",
       "  (layer2): Sequential(\n",
       "    (0): BasicBlock(\n",
       "      (conv1): Conv2d(64, 128, kernel_size=(3, 3), stride=(2, 2), padding=(1, 1), bias=False)\n",
       "      (bn1): BatchNorm2d(128, eps=1e-05, momentum=0.1, affine=True, track_running_stats=True)\n",
       "      (relu): ReLU(inplace=True)\n",
       "      (conv2): Conv2d(128, 128, kernel_size=(3, 3), stride=(1, 1), padding=(1, 1), bias=False)\n",
       "      (bn2): BatchNorm2d(128, eps=1e-05, momentum=0.1, affine=True, track_running_stats=True)\n",
       "      (downsample): Sequential(\n",
       "        (0): Conv2d(64, 128, kernel_size=(1, 1), stride=(2, 2), bias=False)\n",
       "        (1): BatchNorm2d(128, eps=1e-05, momentum=0.1, affine=True, track_running_stats=True)\n",
       "      )\n",
       "    )\n",
       "    (1): BasicBlock(\n",
       "      (conv1): Conv2d(128, 128, kernel_size=(3, 3), stride=(1, 1), padding=(1, 1), bias=False)\n",
       "      (bn1): BatchNorm2d(128, eps=1e-05, momentum=0.1, affine=True, track_running_stats=True)\n",
       "      (relu): ReLU(inplace=True)\n",
       "      (conv2): Conv2d(128, 128, kernel_size=(3, 3), stride=(1, 1), padding=(1, 1), bias=False)\n",
       "      (bn2): BatchNorm2d(128, eps=1e-05, momentum=0.1, affine=True, track_running_stats=True)\n",
       "    )\n",
       "  )\n",
       "  (layer3): Sequential(\n",
       "    (0): BasicBlock(\n",
       "      (conv1): Conv2d(128, 256, kernel_size=(3, 3), stride=(2, 2), padding=(1, 1), bias=False)\n",
       "      (bn1): BatchNorm2d(256, eps=1e-05, momentum=0.1, affine=True, track_running_stats=True)\n",
       "      (relu): ReLU(inplace=True)\n",
       "      (conv2): Conv2d(256, 256, kernel_size=(3, 3), stride=(1, 1), padding=(1, 1), bias=False)\n",
       "      (bn2): BatchNorm2d(256, eps=1e-05, momentum=0.1, affine=True, track_running_stats=True)\n",
       "      (downsample): Sequential(\n",
       "        (0): Conv2d(128, 256, kernel_size=(1, 1), stride=(2, 2), bias=False)\n",
       "        (1): BatchNorm2d(256, eps=1e-05, momentum=0.1, affine=True, track_running_stats=True)\n",
       "      )\n",
       "    )\n",
       "    (1): BasicBlock(\n",
       "      (conv1): Conv2d(256, 256, kernel_size=(3, 3), stride=(1, 1), padding=(1, 1), bias=False)\n",
       "      (bn1): BatchNorm2d(256, eps=1e-05, momentum=0.1, affine=True, track_running_stats=True)\n",
       "      (relu): ReLU(inplace=True)\n",
       "      (conv2): Conv2d(256, 256, kernel_size=(3, 3), stride=(1, 1), padding=(1, 1), bias=False)\n",
       "      (bn2): BatchNorm2d(256, eps=1e-05, momentum=0.1, affine=True, track_running_stats=True)\n",
       "    )\n",
       "  )\n",
       "  (layer4): Sequential(\n",
       "    (0): BasicBlock(\n",
       "      (conv1): Conv2d(256, 512, kernel_size=(3, 3), stride=(2, 2), padding=(1, 1), bias=False)\n",
       "      (bn1): BatchNorm2d(512, eps=1e-05, momentum=0.1, affine=True, track_running_stats=True)\n",
       "      (relu): ReLU(inplace=True)\n",
       "      (conv2): Conv2d(512, 512, kernel_size=(3, 3), stride=(1, 1), padding=(1, 1), bias=False)\n",
       "      (bn2): BatchNorm2d(512, eps=1e-05, momentum=0.1, affine=True, track_running_stats=True)\n",
       "      (downsample): Sequential(\n",
       "        (0): Conv2d(256, 512, kernel_size=(1, 1), stride=(2, 2), bias=False)\n",
       "        (1): BatchNorm2d(512, eps=1e-05, momentum=0.1, affine=True, track_running_stats=True)\n",
       "      )\n",
       "    )\n",
       "    (1): BasicBlock(\n",
       "      (conv1): Conv2d(512, 512, kernel_size=(3, 3), stride=(1, 1), padding=(1, 1), bias=False)\n",
       "      (bn1): BatchNorm2d(512, eps=1e-05, momentum=0.1, affine=True, track_running_stats=True)\n",
       "      (relu): ReLU(inplace=True)\n",
       "      (conv2): Conv2d(512, 512, kernel_size=(3, 3), stride=(1, 1), padding=(1, 1), bias=False)\n",
       "      (bn2): BatchNorm2d(512, eps=1e-05, momentum=0.1, affine=True, track_running_stats=True)\n",
       "    )\n",
       "  )\n",
       "  (avgpool): AdaptiveAvgPool2d(output_size=(1, 1))\n",
       "  (fc): Linear(in_features=512, out_features=1000, bias=True)\n",
       ")"
      ]
     },
     "execution_count": 229,
     "metadata": {},
     "output_type": "execute_result"
    }
   ],
   "source": [
    "resnet = resnet18()\n",
    "resnet"
   ]
  },
  {
   "cell_type": "code",
   "execution_count": 249,
   "id": "a5a431ed",
   "metadata": {},
   "outputs": [],
   "source": [
    "class BreastCancerNet(nn.Module):\n",
    "    def __init__(self, pretrained = True):\n",
    "        super(BreastCancerNet, self).__init__()\n",
    "        self.lymphnode = resnet18(pretrained = pretrained)\n",
    "        self.fc = nn.Linear(in_features = 512, out_features = 1)\n",
    "        \n",
    "    def forward(self, x):\n",
    "        x = self.lymphnode.conv1(x)\n",
    "        x = self.lymphnode.bn1(x)\n",
    "        x = self.lymphnode.relu(x)\n",
    "        x = self.lymphnode.maxpool(x)\n",
    "        \n",
    "        x = self.lymphnode.layer1(x)\n",
    "        x = self.lymphnode.layer2(x)\n",
    "        x = self.lymphnode.layer3(x)\n",
    "        x = self.lymphnode.layer4(x)\n",
    "        \n",
    "        x = self.lymphnode.avgpool(x)\n",
    "        \n",
    "        x = x.view(x.size(0), 512)\n",
    "        x = self.fc(x)\n",
    "        \n",
    "        return x"
   ]
  },
  {
   "cell_type": "code",
   "execution_count": 315,
   "id": "86ef4408",
   "metadata": {},
   "outputs": [],
   "source": [
    "train_transform = transforms.Compose([\n",
    "    transforms.ToTensor(),\n",
    "    #transforms.Resize(size = (224, 224)),\n",
    "    #transforms.CenterCrop((200,200)),\n",
    "    #transforms.RandomRotation(degrees = 90),\n",
    "    #transforms.RandomAdjustSharpness(10, p = 1),\n",
    "    #transforms.ColorJitter(brightness=5, contrast=5, saturation=5, hue=0.5),\n",
    "    #transforms.RandomInvert(p=1),\n",
    "    #transforms.RandomGrayscale(p=1),\n",
    "    transforms.Normalize([0.485, 0.456, 0.406], [0.229, 0.224, 0.225])\n",
    "])\n",
    "\n",
    "test_transform = transforms.Compose([\n",
    "    transforms.ToTensor(),\n",
    "    transforms.Normalize([0.485, 0.456, 0.406], [0.229, 0.224, 0.225])\n",
    "])\n",
    "\n",
    "train_dataset = BreastScanDataset(train_paths, train_labels, train_transform)\n",
    "valid_dataset = BreastScanDataset(valid_paths, valid_labels, test_transform)"
   ]
  },
  {
   "cell_type": "code",
   "execution_count": 317,
   "id": "9b926483",
   "metadata": {},
   "outputs": [],
   "source": [
    "pretrained = True\n",
    "\n",
    "model = BreastCancerNet(pretrained = pretrained)\n",
    "\n",
    "lr = 5e-2\n",
    "\n",
    "num_epochs = 10\n",
    "train_batch_size = 32\n",
    "valid_batch_size = 32\n",
    "\n",
    "train_dataloader = DataLoader(train_dataset, batch_size = train_batch_size, shuffle = True)\n",
    "valid_dataloader = DataLoader(valid_dataset, batch_size = valid_batch_size, shuffle = True)\n",
    "\n",
    "dataloaders = {\n",
    "    \"train\": train_dataloader,\n",
    "    \"val\": valid_dataloader\n",
    "}\n",
    "\n",
    "logging_steps = {\n",
    "    \"train\": len(dataloaders[\"train\"]) // 5,\n",
    "    \"val\": len(dataloaders[\"val\"]) // 5\n",
    "}\n",
    "\n",
    "dataset_sizes = {\n",
    "    \"train\": len(train_dataset),\n",
    "    \"val\": len(valid_dataset)\n",
    "}\n",
    "\n",
    "batch_sizes = {\n",
    "    \"train\": train_batch_size,\n",
    "    \"val\": valid_batch_size\n",
    "}\n",
    "\n",
    "criterion = nn.BCEWithLogitsLoss()\n",
    "optimizer = Adam(model.parameters(), lr = lr)"
   ]
  },
  {
   "cell_type": "code",
   "execution_count": 319,
   "id": "9d713ace",
   "metadata": {
    "scrolled": true
   },
   "outputs": [
    {
     "data": {
      "text/plain": [
       "BreastCancerNet(\n",
       "  (lymphnode): ResNet(\n",
       "    (conv1): Conv2d(3, 64, kernel_size=(7, 7), stride=(2, 2), padding=(3, 3), bias=False)\n",
       "    (bn1): BatchNorm2d(64, eps=1e-05, momentum=0.1, affine=True, track_running_stats=True)\n",
       "    (relu): ReLU(inplace=True)\n",
       "    (maxpool): MaxPool2d(kernel_size=3, stride=2, padding=1, dilation=1, ceil_mode=False)\n",
       "    (layer1): Sequential(\n",
       "      (0): BasicBlock(\n",
       "        (conv1): Conv2d(64, 64, kernel_size=(3, 3), stride=(1, 1), padding=(1, 1), bias=False)\n",
       "        (bn1): BatchNorm2d(64, eps=1e-05, momentum=0.1, affine=True, track_running_stats=True)\n",
       "        (relu): ReLU(inplace=True)\n",
       "        (conv2): Conv2d(64, 64, kernel_size=(3, 3), stride=(1, 1), padding=(1, 1), bias=False)\n",
       "        (bn2): BatchNorm2d(64, eps=1e-05, momentum=0.1, affine=True, track_running_stats=True)\n",
       "      )\n",
       "      (1): BasicBlock(\n",
       "        (conv1): Conv2d(64, 64, kernel_size=(3, 3), stride=(1, 1), padding=(1, 1), bias=False)\n",
       "        (bn1): BatchNorm2d(64, eps=1e-05, momentum=0.1, affine=True, track_running_stats=True)\n",
       "        (relu): ReLU(inplace=True)\n",
       "        (conv2): Conv2d(64, 64, kernel_size=(3, 3), stride=(1, 1), padding=(1, 1), bias=False)\n",
       "        (bn2): BatchNorm2d(64, eps=1e-05, momentum=0.1, affine=True, track_running_stats=True)\n",
       "      )\n",
       "    )\n",
       "    (layer2): Sequential(\n",
       "      (0): BasicBlock(\n",
       "        (conv1): Conv2d(64, 128, kernel_size=(3, 3), stride=(2, 2), padding=(1, 1), bias=False)\n",
       "        (bn1): BatchNorm2d(128, eps=1e-05, momentum=0.1, affine=True, track_running_stats=True)\n",
       "        (relu): ReLU(inplace=True)\n",
       "        (conv2): Conv2d(128, 128, kernel_size=(3, 3), stride=(1, 1), padding=(1, 1), bias=False)\n",
       "        (bn2): BatchNorm2d(128, eps=1e-05, momentum=0.1, affine=True, track_running_stats=True)\n",
       "        (downsample): Sequential(\n",
       "          (0): Conv2d(64, 128, kernel_size=(1, 1), stride=(2, 2), bias=False)\n",
       "          (1): BatchNorm2d(128, eps=1e-05, momentum=0.1, affine=True, track_running_stats=True)\n",
       "        )\n",
       "      )\n",
       "      (1): BasicBlock(\n",
       "        (conv1): Conv2d(128, 128, kernel_size=(3, 3), stride=(1, 1), padding=(1, 1), bias=False)\n",
       "        (bn1): BatchNorm2d(128, eps=1e-05, momentum=0.1, affine=True, track_running_stats=True)\n",
       "        (relu): ReLU(inplace=True)\n",
       "        (conv2): Conv2d(128, 128, kernel_size=(3, 3), stride=(1, 1), padding=(1, 1), bias=False)\n",
       "        (bn2): BatchNorm2d(128, eps=1e-05, momentum=0.1, affine=True, track_running_stats=True)\n",
       "      )\n",
       "    )\n",
       "    (layer3): Sequential(\n",
       "      (0): BasicBlock(\n",
       "        (conv1): Conv2d(128, 256, kernel_size=(3, 3), stride=(2, 2), padding=(1, 1), bias=False)\n",
       "        (bn1): BatchNorm2d(256, eps=1e-05, momentum=0.1, affine=True, track_running_stats=True)\n",
       "        (relu): ReLU(inplace=True)\n",
       "        (conv2): Conv2d(256, 256, kernel_size=(3, 3), stride=(1, 1), padding=(1, 1), bias=False)\n",
       "        (bn2): BatchNorm2d(256, eps=1e-05, momentum=0.1, affine=True, track_running_stats=True)\n",
       "        (downsample): Sequential(\n",
       "          (0): Conv2d(128, 256, kernel_size=(1, 1), stride=(2, 2), bias=False)\n",
       "          (1): BatchNorm2d(256, eps=1e-05, momentum=0.1, affine=True, track_running_stats=True)\n",
       "        )\n",
       "      )\n",
       "      (1): BasicBlock(\n",
       "        (conv1): Conv2d(256, 256, kernel_size=(3, 3), stride=(1, 1), padding=(1, 1), bias=False)\n",
       "        (bn1): BatchNorm2d(256, eps=1e-05, momentum=0.1, affine=True, track_running_stats=True)\n",
       "        (relu): ReLU(inplace=True)\n",
       "        (conv2): Conv2d(256, 256, kernel_size=(3, 3), stride=(1, 1), padding=(1, 1), bias=False)\n",
       "        (bn2): BatchNorm2d(256, eps=1e-05, momentum=0.1, affine=True, track_running_stats=True)\n",
       "      )\n",
       "    )\n",
       "    (layer4): Sequential(\n",
       "      (0): BasicBlock(\n",
       "        (conv1): Conv2d(256, 512, kernel_size=(3, 3), stride=(2, 2), padding=(1, 1), bias=False)\n",
       "        (bn1): BatchNorm2d(512, eps=1e-05, momentum=0.1, affine=True, track_running_stats=True)\n",
       "        (relu): ReLU(inplace=True)\n",
       "        (conv2): Conv2d(512, 512, kernel_size=(3, 3), stride=(1, 1), padding=(1, 1), bias=False)\n",
       "        (bn2): BatchNorm2d(512, eps=1e-05, momentum=0.1, affine=True, track_running_stats=True)\n",
       "        (downsample): Sequential(\n",
       "          (0): Conv2d(256, 512, kernel_size=(1, 1), stride=(2, 2), bias=False)\n",
       "          (1): BatchNorm2d(512, eps=1e-05, momentum=0.1, affine=True, track_running_stats=True)\n",
       "        )\n",
       "      )\n",
       "      (1): BasicBlock(\n",
       "        (conv1): Conv2d(512, 512, kernel_size=(3, 3), stride=(1, 1), padding=(1, 1), bias=False)\n",
       "        (bn1): BatchNorm2d(512, eps=1e-05, momentum=0.1, affine=True, track_running_stats=True)\n",
       "        (relu): ReLU(inplace=True)\n",
       "        (conv2): Conv2d(512, 512, kernel_size=(3, 3), stride=(1, 1), padding=(1, 1), bias=False)\n",
       "        (bn2): BatchNorm2d(512, eps=1e-05, momentum=0.1, affine=True, track_running_stats=True)\n",
       "      )\n",
       "    )\n",
       "    (avgpool): AdaptiveAvgPool2d(output_size=(1, 1))\n",
       "    (fc): Linear(in_features=512, out_features=1000, bias=True)\n",
       "  )\n",
       "  (fc): Linear(in_features=512, out_features=1, bias=True)\n",
       ")"
      ]
     },
     "execution_count": 319,
     "metadata": {},
     "output_type": "execute_result"
    }
   ],
   "source": [
    "model"
   ]
  },
  {
   "cell_type": "code",
   "execution_count": 320,
   "id": "e098d130",
   "metadata": {},
   "outputs": [
    {
     "name": "stdout",
     "output_type": "stream",
     "text": [
      "cpu\n"
     ]
    }
   ],
   "source": [
    "device = torch.device('cuda' if torch.cuda.is_available() else 'cpu')\n",
    "print(device)"
   ]
  },
  {
   "cell_type": "code",
   "execution_count": 321,
   "id": "0fdcb0c1",
   "metadata": {},
   "outputs": [],
   "source": [
    "def train_model(model, criterion, optimizer, num_epochs):\n",
    "    since = time.time()\n",
    "    \n",
    "    best_model_wts = copy.deepcopy(model.state_dict())\n",
    "    best_acc = 0\n",
    "    \n",
    "    for epoch in tqdm(range(num_epochs), leave = False):\n",
    "        for phase in [\"train\", \"val\"]:\n",
    "            if phase == \"train\":\n",
    "                model.train()\n",
    "            else:\n",
    "                model.eval()\n",
    "                \n",
    "            running_loss = 0.0\n",
    "            running_corrects = 0\n",
    "            \n",
    "            for i, (inputs, labels) in tqdm(enumerate(dataloaders[phase]),\n",
    "                                            leave = False,\n",
    "                                            total = len(dataloaders[phase])):\n",
    "                \n",
    "                inputs = inputs.to(device)\n",
    "                #labels = torch.nn.functional.one_hot(labels)\n",
    "                labels = labels.to(device)\n",
    "                \n",
    "                optimizer.zero_grad()\n",
    "                \n",
    "                with torch.set_grad_enabled(phase == \"train\"):\n",
    "                    outputs = model(inputs)\n",
    "                    \n",
    "                    preds = outputs.sigmoid() > 0.5\n",
    "                    loss = criterion(outputs, labels.float())\n",
    "                    \n",
    "                    if phase == \"train\":\n",
    "                        loss.backward()\n",
    "                        optimizer.step()\n",
    "                \n",
    "                running_loss += loss.item() * inputs.size(0)\n",
    "                running_corrects += torch.sum(preds == labels.data)\n",
    "                \n",
    "                if (i % logging_steps[phase] == 0) & (i > 0):\n",
    "                    avg_loss = running_loss / ((i+1) * batch_sizes[phase])\n",
    "                    avg_acc = running_corrects / ((i+1) * batch_sizes[phase])\n",
    "                    \n",
    "                    print(f\"[{phase}]: {epoch+1} / {num_epochs} | loss: {avg_loss} | acc: {avg_acc}\")\n",
    "            \n",
    "            epoch_loss = running_loss / dataset_sizes[phase]\n",
    "            epoch_acc = running_corrects.double() / dataset_sizes[phase]\n",
    "            \n",
    "            print(\"{} Loss: {:.4f} Acc: {:.4f}\".format(phase, epoch_loss, epoch_acc))\n",
    "            \n",
    "            if phase == \"val\" and epoch_acc> best_acc:\n",
    "                best_acc = epoch_acc\n",
    "                best_model_wts = copy.deepcopy(model.state_dict())\n",
    "                \n",
    "        print()\n",
    "    time_elapsed = time.time() - since\n",
    "    \n",
    "    print(f\"training took {time_elapsed} seconds\")\n",
    "    \n",
    "    print(classification_report(y_true=labels.tolist(), y_pred=preds.tolist()))\n",
    "    \n",
    "    model.load_state_dict(best_model_wts)\n",
    "    return model"
   ]
  },
  {
   "cell_type": "code",
   "execution_count": 265,
   "id": "13790bc8",
   "metadata": {},
   "outputs": [
    {
     "data": {
      "application/vnd.jupyter.widget-view+json": {
       "model_id": "",
       "version_major": 2,
       "version_minor": 0
      },
      "text/plain": [
       "  0%|          | 0/10 [00:00<?, ?it/s]"
      ]
     },
     "metadata": {},
     "output_type": "display_data"
    },
    {
     "data": {
      "application/vnd.jupyter.widget-view+json": {
       "model_id": "",
       "version_major": 2,
       "version_minor": 0
      },
      "text/plain": [
       "  0%|          | 0/15 [00:00<?, ?it/s]"
      ]
     },
     "metadata": {},
     "output_type": "display_data"
    },
    {
     "name": "stdout",
     "output_type": "stream",
     "text": [
      "[train]: 1 / 10 | loss: 5.193713963031769 | acc: 0.53125\n",
      "[train]: 1 / 10 | loss: 3.52815443277359 | acc: 0.5401785969734192\n",
      "[train]: 1 / 10 | loss: 2.92713902592659 | acc: 0.512499988079071\n",
      "[train]: 1 / 10 | loss: 2.481936665681692 | acc: 0.567307710647583\n",
      "train Loss: 2.4165 Acc: 0.5758\n"
     ]
    },
    {
     "data": {
      "application/vnd.jupyter.widget-view+json": {
       "model_id": "",
       "version_major": 2,
       "version_minor": 0
      },
      "text/plain": [
       "  0%|          | 0/5 [00:00<?, ?it/s]"
      ]
     },
     "metadata": {},
     "output_type": "display_data"
    },
    {
     "name": "stdout",
     "output_type": "stream",
     "text": [
      "[val]: 1 / 10 | loss: 908.2433471679688 | acc: 0.6875\n",
      "[val]: 1 / 10 | loss: 1239.8340250651042 | acc: 0.6458333134651184\n",
      "[val]: 1 / 10 | loss: 1432.9754638671875 | acc: 0.6328125\n",
      "[val]: 1 / 10 | loss: 1503.8317993164062 | acc: 0.5874999761581421\n",
      "val Loss: 1582.9808 Acc: 0.6184\n",
      "\n"
     ]
    },
    {
     "data": {
      "application/vnd.jupyter.widget-view+json": {
       "model_id": "",
       "version_major": 2,
       "version_minor": 0
      },
      "text/plain": [
       "  0%|          | 0/15 [00:00<?, ?it/s]"
      ]
     },
     "metadata": {},
     "output_type": "display_data"
    },
    {
     "name": "stdout",
     "output_type": "stream",
     "text": [
      "[train]: 2 / 10 | loss: 2.7128745913505554 | acc: 0.6328125\n",
      "[train]: 2 / 10 | loss: 2.578030858721052 | acc: 0.6428571343421936\n",
      "[train]: 2 / 10 | loss: 2.2857661485671996 | acc: 0.625\n",
      "[train]: 2 / 10 | loss: 2.1862929050738993 | acc: 0.598557710647583\n",
      "train Loss: 2.0564 Acc: 0.5934\n"
     ]
    },
    {
     "data": {
      "application/vnd.jupyter.widget-view+json": {
       "model_id": "",
       "version_major": 2,
       "version_minor": 0
      },
      "text/plain": [
       "  0%|          | 0/5 [00:00<?, ?it/s]"
      ]
     },
     "metadata": {},
     "output_type": "display_data"
    },
    {
     "name": "stdout",
     "output_type": "stream",
     "text": [
      "[val]: 2 / 10 | loss: 0.7622803449630737 | acc: 0.359375\n",
      "[val]: 2 / 10 | loss: 0.7603981296221415 | acc: 0.3645833432674408\n",
      "[val]: 2 / 10 | loss: 0.7652599066495895 | acc: 0.3515625\n",
      "[val]: 2 / 10 | loss: 0.7164119869470597 | acc: 0.36250001192092896\n",
      "val Loss: 0.7541 Acc: 0.3816\n",
      "\n"
     ]
    },
    {
     "data": {
      "application/vnd.jupyter.widget-view+json": {
       "model_id": "",
       "version_major": 2,
       "version_minor": 0
      },
      "text/plain": [
       "  0%|          | 0/15 [00:00<?, ?it/s]"
      ]
     },
     "metadata": {},
     "output_type": "display_data"
    },
    {
     "name": "stdout",
     "output_type": "stream",
     "text": [
      "[train]: 3 / 10 | loss: 0.6813602447509766 | acc: 0.3984375\n",
      "[train]: 3 / 10 | loss: 0.6975895166397095 | acc: 0.4375\n",
      "[train]: 3 / 10 | loss: 0.6820513367652893 | acc: 0.47187501192092896\n",
      "[train]: 3 / 10 | loss: 0.7095271853300241 | acc: 0.4975961446762085\n",
      "train Loss: 0.7297 Acc: 0.5011\n"
     ]
    },
    {
     "data": {
      "application/vnd.jupyter.widget-view+json": {
       "model_id": "",
       "version_major": 2,
       "version_minor": 0
      },
      "text/plain": [
       "  0%|          | 0/5 [00:00<?, ?it/s]"
      ]
     },
     "metadata": {},
     "output_type": "display_data"
    },
    {
     "name": "stdout",
     "output_type": "stream",
     "text": [
      "[val]: 3 / 10 | loss: 0.5781023502349854 | acc: 0.71875\n",
      "[val]: 3 / 10 | loss: 0.5979368289311727 | acc: 0.65625\n",
      "[val]: 3 / 10 | loss: 0.6103654503822327 | acc: 0.6015625\n",
      "[val]: 3 / 10 | loss: 0.5783219754695892 | acc: 0.5874999761581421\n",
      "val Loss: 0.6088 Acc: 0.6184\n",
      "\n"
     ]
    },
    {
     "data": {
      "application/vnd.jupyter.widget-view+json": {
       "model_id": "",
       "version_major": 2,
       "version_minor": 0
      },
      "text/plain": [
       "  0%|          | 0/15 [00:00<?, ?it/s]"
      ]
     },
     "metadata": {},
     "output_type": "display_data"
    },
    {
     "name": "stdout",
     "output_type": "stream",
     "text": [
      "[train]: 4 / 10 | loss: 0.6989515423774719 | acc: 0.59375\n",
      "[train]: 4 / 10 | loss: 0.6804910983358111 | acc: 0.59375\n",
      "[train]: 4 / 10 | loss: 0.6719550013542175 | acc: 0.606249988079071\n",
      "[train]: 4 / 10 | loss: 0.6663454083295969 | acc: 0.6129807829856873\n",
      "train Loss: 0.6672 Acc: 0.6088\n"
     ]
    },
    {
     "data": {
      "application/vnd.jupyter.widget-view+json": {
       "model_id": "",
       "version_major": 2,
       "version_minor": 0
      },
      "text/plain": [
       "  0%|          | 0/5 [00:00<?, ?it/s]"
      ]
     },
     "metadata": {},
     "output_type": "display_data"
    },
    {
     "name": "stdout",
     "output_type": "stream",
     "text": [
      "[val]: 4 / 10 | loss: 0.6252223253250122 | acc: 0.5625\n",
      "[val]: 4 / 10 | loss: 0.6777279575665792 | acc: 0.5833333134651184\n",
      "[val]: 4 / 10 | loss: 0.6316943541169167 | acc: 0.6015625\n",
      "[val]: 4 / 10 | loss: 0.5866313248872757 | acc: 0.5874999761581421\n",
      "val Loss: 0.6175 Acc: 0.6184\n",
      "\n"
     ]
    },
    {
     "data": {
      "application/vnd.jupyter.widget-view+json": {
       "model_id": "",
       "version_major": 2,
       "version_minor": 0
      },
      "text/plain": [
       "  0%|          | 0/15 [00:00<?, ?it/s]"
      ]
     },
     "metadata": {},
     "output_type": "display_data"
    },
    {
     "name": "stdout",
     "output_type": "stream",
     "text": [
      "[train]: 5 / 10 | loss: 0.6475520730018616 | acc: 0.6015625\n",
      "[train]: 5 / 10 | loss: 0.6341520377567836 | acc: 0.6116071343421936\n",
      "[train]: 5 / 10 | loss: 0.6320091187953949 | acc: 0.606249988079071\n",
      "[train]: 5 / 10 | loss: 0.6420871019363403 | acc: 0.6105769276618958\n",
      "train Loss: 0.6438 Acc: 0.6132\n"
     ]
    },
    {
     "data": {
      "application/vnd.jupyter.widget-view+json": {
       "model_id": "",
       "version_major": 2,
       "version_minor": 0
      },
      "text/plain": [
       "  0%|          | 0/5 [00:00<?, ?it/s]"
      ]
     },
     "metadata": {},
     "output_type": "display_data"
    },
    {
     "name": "stdout",
     "output_type": "stream",
     "text": [
      "[val]: 5 / 10 | loss: 0.6081078350543976 | acc: 0.609375\n",
      "[val]: 5 / 10 | loss: 0.6032577355702718 | acc: 0.625\n",
      "[val]: 5 / 10 | loss: 0.6030292063951492 | acc: 0.6328125\n",
      "[val]: 5 / 10 | loss: 0.5775313407182694 | acc: 0.5874999761581421\n",
      "val Loss: 0.6079 Acc: 0.6184\n",
      "\n"
     ]
    },
    {
     "data": {
      "application/vnd.jupyter.widget-view+json": {
       "model_id": "",
       "version_major": 2,
       "version_minor": 0
      },
      "text/plain": [
       "  0%|          | 0/15 [00:00<?, ?it/s]"
      ]
     },
     "metadata": {},
     "output_type": "display_data"
    },
    {
     "name": "stdout",
     "output_type": "stream",
     "text": [
      "[train]: 6 / 10 | loss: 0.6538790911436081 | acc: 0.640625\n",
      "[train]: 6 / 10 | loss: 0.7128044962882996 | acc: 0.6071428656578064\n",
      "[train]: 6 / 10 | loss: 0.7050999343395233 | acc: 0.606249988079071\n",
      "[train]: 6 / 10 | loss: 0.7037343795482929 | acc: 0.6177884340286255\n",
      "train Loss: 0.7052 Acc: 0.6088\n"
     ]
    },
    {
     "data": {
      "application/vnd.jupyter.widget-view+json": {
       "model_id": "",
       "version_major": 2,
       "version_minor": 0
      },
      "text/plain": [
       "  0%|          | 0/5 [00:00<?, ?it/s]"
      ]
     },
     "metadata": {},
     "output_type": "display_data"
    },
    {
     "name": "stdout",
     "output_type": "stream",
     "text": [
      "[val]: 6 / 10 | loss: 0.674270749092102 | acc: 0.5625\n",
      "[val]: 6 / 10 | loss: 0.6552687883377075 | acc: 0.6354166865348816\n",
      "[val]: 6 / 10 | loss: 0.6556705832481384 | acc: 0.6328125\n",
      "[val]: 6 / 10 | loss: 0.6264693140983582 | acc: 0.5874999761581421\n",
      "val Loss: 0.6594 Acc: 0.6184\n",
      "\n"
     ]
    },
    {
     "data": {
      "application/vnd.jupyter.widget-view+json": {
       "model_id": "",
       "version_major": 2,
       "version_minor": 0
      },
      "text/plain": [
       "  0%|          | 0/15 [00:00<?, ?it/s]"
      ]
     },
     "metadata": {},
     "output_type": "display_data"
    },
    {
     "name": "stdout",
     "output_type": "stream",
     "text": [
      "[train]: 7 / 10 | loss: 0.6571223139762878 | acc: 0.6015625\n",
      "[train]: 7 / 10 | loss: 0.8080266118049622 | acc: 0.59375\n",
      "[train]: 7 / 10 | loss: 0.8393508136272431 | acc: 0.606249988079071\n",
      "[train]: 7 / 10 | loss: 0.7964175389363215 | acc: 0.6033653616905212\n",
      "train Loss: 0.7815 Acc: 0.6088\n"
     ]
    },
    {
     "data": {
      "application/vnd.jupyter.widget-view+json": {
       "model_id": "",
       "version_major": 2,
       "version_minor": 0
      },
      "text/plain": [
       "  0%|          | 0/5 [00:00<?, ?it/s]"
      ]
     },
     "metadata": {},
     "output_type": "display_data"
    },
    {
     "name": "stdout",
     "output_type": "stream",
     "text": [
      "[val]: 7 / 10 | loss: 0.6388251185417175 | acc: 0.609375\n",
      "[val]: 7 / 10 | loss: 0.6330883900324503 | acc: 0.6145833134651184\n",
      "[val]: 7 / 10 | loss: 0.6405905783176422 | acc: 0.59375\n",
      "[val]: 7 / 10 | loss: 0.5985991328954696 | acc: 0.5874999761581421\n",
      "val Loss: 0.6301 Acc: 0.6184\n",
      "\n"
     ]
    },
    {
     "data": {
      "application/vnd.jupyter.widget-view+json": {
       "model_id": "",
       "version_major": 2,
       "version_minor": 0
      },
      "text/plain": [
       "  0%|          | 0/15 [00:00<?, ?it/s]"
      ]
     },
     "metadata": {},
     "output_type": "display_data"
    },
    {
     "name": "stdout",
     "output_type": "stream",
     "text": [
      "[train]: 8 / 10 | loss: 0.579522043466568 | acc: 0.640625\n",
      "[train]: 8 / 10 | loss: 0.6260681918689183 | acc: 0.6026785969734192\n",
      "[train]: 8 / 10 | loss: 0.6249211072921753 | acc: 0.612500011920929\n",
      "[train]: 8 / 10 | loss: 0.657607362820552 | acc: 0.620192289352417\n",
      "train Loss: 0.7714 Acc: 0.6154\n"
     ]
    },
    {
     "data": {
      "application/vnd.jupyter.widget-view+json": {
       "model_id": "",
       "version_major": 2,
       "version_minor": 0
      },
      "text/plain": [
       "  0%|          | 0/5 [00:00<?, ?it/s]"
      ]
     },
     "metadata": {},
     "output_type": "display_data"
    },
    {
     "name": "stdout",
     "output_type": "stream",
     "text": [
      "[val]: 8 / 10 | loss: 0.6890552937984467 | acc: 0.515625\n",
      "[val]: 8 / 10 | loss: 0.6763708790143331 | acc: 0.59375\n",
      "[val]: 8 / 10 | loss: 0.6758573800325394 | acc: 0.59375\n",
      "[val]: 8 / 10 | loss: 0.6368157744407654 | acc: 0.5874999761581421\n",
      "val Loss: 0.6703 Acc: 0.6184\n",
      "\n"
     ]
    },
    {
     "data": {
      "application/vnd.jupyter.widget-view+json": {
       "model_id": "",
       "version_major": 2,
       "version_minor": 0
      },
      "text/plain": [
       "  0%|          | 0/15 [00:00<?, ?it/s]"
      ]
     },
     "metadata": {},
     "output_type": "display_data"
    },
    {
     "name": "stdout",
     "output_type": "stream",
     "text": [
      "[train]: 9 / 10 | loss: 0.8143901377916336 | acc: 0.625\n",
      "[train]: 9 / 10 | loss: 0.9248585956437247 | acc: 0.6116071343421936\n",
      "[train]: 9 / 10 | loss: 0.8627664506435394 | acc: 0.609375\n",
      "[train]: 9 / 10 | loss: 0.8225482381307162 | acc: 0.6009615659713745\n",
      "train Loss: 0.8204 Acc: 0.6000\n"
     ]
    },
    {
     "data": {
      "application/vnd.jupyter.widget-view+json": {
       "model_id": "",
       "version_major": 2,
       "version_minor": 0
      },
      "text/plain": [
       "  0%|          | 0/5 [00:00<?, ?it/s]"
      ]
     },
     "metadata": {},
     "output_type": "display_data"
    },
    {
     "name": "stdout",
     "output_type": "stream",
     "text": [
      "[val]: 9 / 10 | loss: 0.635267972946167 | acc: 0.65625\n",
      "[val]: 9 / 10 | loss: 0.6651597420374552 | acc: 0.5833333134651184\n",
      "[val]: 9 / 10 | loss: 0.658583015203476 | acc: 0.609375\n",
      "[val]: 9 / 10 | loss: 0.6229474037885666 | acc: 0.5874999761581421\n",
      "val Loss: 0.6557 Acc: 0.6184\n",
      "\n"
     ]
    },
    {
     "data": {
      "application/vnd.jupyter.widget-view+json": {
       "model_id": "",
       "version_major": 2,
       "version_minor": 0
      },
      "text/plain": [
       "  0%|          | 0/15 [00:00<?, ?it/s]"
      ]
     },
     "metadata": {},
     "output_type": "display_data"
    },
    {
     "name": "stdout",
     "output_type": "stream",
     "text": [
      "[train]: 10 / 10 | loss: 0.6472849696874619 | acc: 0.6015625\n",
      "[train]: 10 / 10 | loss: 0.6504109501838684 | acc: 0.6428571343421936\n",
      "[train]: 10 / 10 | loss: 0.6692101776599884 | acc: 0.6000000238418579\n",
      "[train]: 10 / 10 | loss: 0.6625400598232563 | acc: 0.6033653616905212\n",
      "train Loss: 0.6553 Acc: 0.6154\n"
     ]
    },
    {
     "data": {
      "application/vnd.jupyter.widget-view+json": {
       "model_id": "",
       "version_major": 2,
       "version_minor": 0
      },
      "text/plain": [
       "  0%|          | 0/5 [00:00<?, ?it/s]"
      ]
     },
     "metadata": {},
     "output_type": "display_data"
    },
    {
     "name": "stdout",
     "output_type": "stream",
     "text": [
      "[val]: 10 / 10 | loss: 0.636796623468399 | acc: 0.609375\n",
      "[val]: 10 / 10 | loss: 0.6440232992172241 | acc: 0.6041666865348816\n",
      "[val]: 10 / 10 | loss: 0.6443338394165039 | acc: 0.6015625\n",
      "[val]: 10 / 10 | loss: 0.6037232726812363 | acc: 0.5874999761581421\n",
      "val Loss: 0.6355 Acc: 0.6184\n",
      "\n",
      "training took 164.6695945262909 seconds\n",
      "              precision    recall  f1-score   support\n",
      "\n",
      "           0       0.71      1.00      0.83        17\n",
      "           1       0.00      0.00      0.00         7\n",
      "\n",
      "    accuracy                           0.71        24\n",
      "   macro avg       0.35      0.50      0.41        24\n",
      "weighted avg       0.50      0.71      0.59        24\n",
      "\n"
     ]
    },
    {
     "name": "stderr",
     "output_type": "stream",
     "text": [
      "C:\\Users\\vgare\\anaconda3\\lib\\site-packages\\sklearn\\metrics\\_classification.py:1318: UndefinedMetricWarning: Precision and F-score are ill-defined and being set to 0.0 in labels with no predicted samples. Use `zero_division` parameter to control this behavior.\n",
      "  _warn_prf(average, modifier, msg_start, len(result))\n",
      "C:\\Users\\vgare\\anaconda3\\lib\\site-packages\\sklearn\\metrics\\_classification.py:1318: UndefinedMetricWarning: Precision and F-score are ill-defined and being set to 0.0 in labels with no predicted samples. Use `zero_division` parameter to control this behavior.\n",
      "  _warn_prf(average, modifier, msg_start, len(result))\n",
      "C:\\Users\\vgare\\anaconda3\\lib\\site-packages\\sklearn\\metrics\\_classification.py:1318: UndefinedMetricWarning: Precision and F-score are ill-defined and being set to 0.0 in labels with no predicted samples. Use `zero_division` parameter to control this behavior.\n",
      "  _warn_prf(average, modifier, msg_start, len(result))\n"
     ]
    }
   ],
   "source": [
    "model = train_model(model, criterion, optimizer, num_epochs)\n",
    "# with multiple augmentation criterion such as resize, center-cropping, color jitter, grayscale, randomInvert and RandomRotate\n",
    "# lr = 0.001"
   ]
  },
  {
   "cell_type": "markdown",
   "id": "4cc42507",
   "metadata": {},
   "source": [
    "In the code above we used multiple augmentation criterion with a low learning rate of 0.001 however the model performed poorly. We can maximum validation accuracy of 61.84% with validation loss lingering around 0.65. To tackle this we raise the learning rate from 0.001 to 0.05 to move from local minima to global minima"
   ]
  },
  {
   "cell_type": "code",
   "execution_count": 290,
   "id": "63e6844f",
   "metadata": {},
   "outputs": [
    {
     "data": {
      "application/vnd.jupyter.widget-view+json": {
       "model_id": "",
       "version_major": 2,
       "version_minor": 0
      },
      "text/plain": [
       "  0%|          | 0/10 [00:00<?, ?it/s]"
      ]
     },
     "metadata": {},
     "output_type": "display_data"
    },
    {
     "data": {
      "application/vnd.jupyter.widget-view+json": {
       "model_id": "",
       "version_major": 2,
       "version_minor": 0
      },
      "text/plain": [
       "  0%|          | 0/15 [00:00<?, ?it/s]"
      ]
     },
     "metadata": {},
     "output_type": "display_data"
    },
    {
     "name": "stdout",
     "output_type": "stream",
     "text": [
      "[train]: 1 / 10 | loss: 2.073543071746826 | acc: 0.4921875\n",
      "[train]: 1 / 10 | loss: 3.2309333767209734 | acc: 0.4866071343421936\n",
      "[train]: 1 / 10 | loss: 3.3080121994018556 | acc: 0.4625000059604645\n",
      "[train]: 1 / 10 | loss: 3.2131728575779843 | acc: 0.45673078298568726\n",
      "train Loss: 2.9981 Acc: 0.4901\n"
     ]
    },
    {
     "data": {
      "application/vnd.jupyter.widget-view+json": {
       "model_id": "",
       "version_major": 2,
       "version_minor": 0
      },
      "text/plain": [
       "  0%|          | 0/5 [00:00<?, ?it/s]"
      ]
     },
     "metadata": {},
     "output_type": "display_data"
    },
    {
     "name": "stdout",
     "output_type": "stream",
     "text": [
      "[val]: 1 / 10 | loss: 65858.283203125 | acc: 0.65625\n",
      "[val]: 1 / 10 | loss: 75336.48567708333 | acc: 0.6145833134651184\n",
      "[val]: 1 / 10 | loss: 69543.1845703125 | acc: 0.640625\n",
      "[val]: 1 / 10 | loss: 69740.78671875 | acc: 0.5874999761581421\n",
      "val Loss: 73411.3544 Acc: 0.6184\n",
      "\n"
     ]
    },
    {
     "data": {
      "application/vnd.jupyter.widget-view+json": {
       "model_id": "",
       "version_major": 2,
       "version_minor": 0
      },
      "text/plain": [
       "  0%|          | 0/15 [00:00<?, ?it/s]"
      ]
     },
     "metadata": {},
     "output_type": "display_data"
    },
    {
     "name": "stdout",
     "output_type": "stream",
     "text": [
      "[train]: 2 / 10 | loss: 3.538854569196701 | acc: 0.5703125\n",
      "[train]: 2 / 10 | loss: 2.4222284640584673 | acc: 0.53125\n",
      "[train]: 2 / 10 | loss: 1.9158805847167968 | acc: 0.559374988079071\n",
      "[train]: 2 / 10 | loss: 1.7265350772784307 | acc: 0.5480769276618958\n",
      "train Loss: 1.6569 Acc: 0.5341\n"
     ]
    },
    {
     "data": {
      "application/vnd.jupyter.widget-view+json": {
       "model_id": "",
       "version_major": 2,
       "version_minor": 0
      },
      "text/plain": [
       "  0%|          | 0/5 [00:00<?, ?it/s]"
      ]
     },
     "metadata": {},
     "output_type": "display_data"
    },
    {
     "name": "stdout",
     "output_type": "stream",
     "text": [
      "[val]: 2 / 10 | loss: 16.78929328918457 | acc: 0.609375\n",
      "[val]: 2 / 10 | loss: 16.89390754699707 | acc: 0.625\n",
      "[val]: 2 / 10 | loss: 18.439098834991455 | acc: 0.625\n",
      "[val]: 2 / 10 | loss: 17.782709980010985 | acc: 0.5874999761581421\n",
      "val Loss: 18.7186 Acc: 0.6184\n",
      "\n"
     ]
    },
    {
     "data": {
      "application/vnd.jupyter.widget-view+json": {
       "model_id": "",
       "version_major": 2,
       "version_minor": 0
      },
      "text/plain": [
       "  0%|          | 0/15 [00:00<?, ?it/s]"
      ]
     },
     "metadata": {},
     "output_type": "display_data"
    },
    {
     "name": "stdout",
     "output_type": "stream",
     "text": [
      "[train]: 3 / 10 | loss: 0.7915347367525101 | acc: 0.4921875\n",
      "[train]: 3 / 10 | loss: 0.8031737293515887 | acc: 0.53125\n",
      "[train]: 3 / 10 | loss: 0.8084744453430176 | acc: 0.5218750238418579\n",
      "[train]: 3 / 10 | loss: 0.7899971420948322 | acc: 0.5072115659713745\n",
      "train Loss: 0.7922 Acc: 0.5121\n"
     ]
    },
    {
     "data": {
      "application/vnd.jupyter.widget-view+json": {
       "model_id": "",
       "version_major": 2,
       "version_minor": 0
      },
      "text/plain": [
       "  0%|          | 0/5 [00:00<?, ?it/s]"
      ]
     },
     "metadata": {},
     "output_type": "display_data"
    },
    {
     "name": "stdout",
     "output_type": "stream",
     "text": [
      "[val]: 3 / 10 | loss: 0.5895377397537231 | acc: 0.765625\n",
      "[val]: 3 / 10 | loss: 0.5966829856236776 | acc: 0.7916666865348816\n",
      "[val]: 3 / 10 | loss: 0.5949172526597977 | acc: 0.78125\n",
      "[val]: 3 / 10 | loss: 0.5748594552278519 | acc: 0.7250000238418579\n",
      "val Loss: 0.6051 Acc: 0.7632\n",
      "\n"
     ]
    },
    {
     "data": {
      "application/vnd.jupyter.widget-view+json": {
       "model_id": "",
       "version_major": 2,
       "version_minor": 0
      },
      "text/plain": [
       "  0%|          | 0/15 [00:00<?, ?it/s]"
      ]
     },
     "metadata": {},
     "output_type": "display_data"
    },
    {
     "name": "stdout",
     "output_type": "stream",
     "text": [
      "[train]: 4 / 10 | loss: 0.6475474536418915 | acc: 0.703125\n",
      "[train]: 4 / 10 | loss: 0.6694573760032654 | acc: 0.65625\n",
      "[train]: 4 / 10 | loss: 0.6879659116268158 | acc: 0.643750011920929\n",
      "[train]: 4 / 10 | loss: 0.6790008361522968 | acc: 0.651442289352417\n",
      "train Loss: 0.6827 Acc: 0.6462\n"
     ]
    },
    {
     "data": {
      "application/vnd.jupyter.widget-view+json": {
       "model_id": "",
       "version_major": 2,
       "version_minor": 0
      },
      "text/plain": [
       "  0%|          | 0/5 [00:00<?, ?it/s]"
      ]
     },
     "metadata": {},
     "output_type": "display_data"
    },
    {
     "name": "stdout",
     "output_type": "stream",
     "text": [
      "[val]: 4 / 10 | loss: 0.636929452419281 | acc: 0.625\n",
      "[val]: 4 / 10 | loss: 0.6331992745399475 | acc: 0.625\n",
      "[val]: 4 / 10 | loss: 0.6639257669448853 | acc: 0.578125\n",
      "[val]: 4 / 10 | loss: 0.6227245956659317 | acc: 0.5687500238418579\n",
      "val Loss: 0.6555 Acc: 0.5987\n",
      "\n"
     ]
    },
    {
     "data": {
      "application/vnd.jupyter.widget-view+json": {
       "model_id": "",
       "version_major": 2,
       "version_minor": 0
      },
      "text/plain": [
       "  0%|          | 0/15 [00:00<?, ?it/s]"
      ]
     },
     "metadata": {},
     "output_type": "display_data"
    },
    {
     "name": "stdout",
     "output_type": "stream",
     "text": [
      "[train]: 5 / 10 | loss: 0.7264256328344345 | acc: 0.671875\n",
      "[train]: 5 / 10 | loss: 0.7466220089367458 | acc: 0.6651785969734192\n",
      "[train]: 5 / 10 | loss: 0.7066651284694672 | acc: 0.668749988079071\n",
      "[train]: 5 / 10 | loss: 0.7039441603880662 | acc: 0.6490384340286255\n",
      "train Loss: 0.6970 Acc: 0.6527\n"
     ]
    },
    {
     "data": {
      "application/vnd.jupyter.widget-view+json": {
       "model_id": "",
       "version_major": 2,
       "version_minor": 0
      },
      "text/plain": [
       "  0%|          | 0/5 [00:00<?, ?it/s]"
      ]
     },
     "metadata": {},
     "output_type": "display_data"
    },
    {
     "name": "stdout",
     "output_type": "stream",
     "text": [
      "[val]: 5 / 10 | loss: 0.6439721286296844 | acc: 0.546875\n",
      "[val]: 5 / 10 | loss: 0.6405536731084188 | acc: 0.5416666865348816\n",
      "[val]: 5 / 10 | loss: 0.6317867785692215 | acc: 0.5390625\n",
      "[val]: 5 / 10 | loss: 0.5947122752666474 | acc: 0.53125\n",
      "val Loss: 0.6260 Acc: 0.5592\n",
      "\n"
     ]
    },
    {
     "data": {
      "application/vnd.jupyter.widget-view+json": {
       "model_id": "",
       "version_major": 2,
       "version_minor": 0
      },
      "text/plain": [
       "  0%|          | 0/15 [00:00<?, ?it/s]"
      ]
     },
     "metadata": {},
     "output_type": "display_data"
    },
    {
     "name": "stdout",
     "output_type": "stream",
     "text": [
      "[train]: 6 / 10 | loss: 0.7483410239219666 | acc: 0.578125\n",
      "[train]: 6 / 10 | loss: 0.7327736020088196 | acc: 0.5401785969734192\n",
      "[train]: 6 / 10 | loss: 0.6859408259391785 | acc: 0.543749988079071\n",
      "[train]: 6 / 10 | loss: 0.6799705441181476 | acc: 0.567307710647583\n",
      "train Loss: 0.6923 Acc: 0.5692\n"
     ]
    },
    {
     "data": {
      "application/vnd.jupyter.widget-view+json": {
       "model_id": "",
       "version_major": 2,
       "version_minor": 0
      },
      "text/plain": [
       "  0%|          | 0/5 [00:00<?, ?it/s]"
      ]
     },
     "metadata": {},
     "output_type": "display_data"
    },
    {
     "name": "stdout",
     "output_type": "stream",
     "text": [
      "[val]: 6 / 10 | loss: 0.6355946958065033 | acc: 0.625\n",
      "[val]: 6 / 10 | loss: 0.6204368273417155 | acc: 0.625\n",
      "[val]: 6 / 10 | loss: 0.62016561627388 | acc: 0.625\n",
      "[val]: 6 / 10 | loss: 0.6024051994085312 | acc: 0.5874999761581421\n",
      "val Loss: 0.6341 Acc: 0.6184\n",
      "\n"
     ]
    },
    {
     "data": {
      "application/vnd.jupyter.widget-view+json": {
       "model_id": "",
       "version_major": 2,
       "version_minor": 0
      },
      "text/plain": [
       "  0%|          | 0/15 [00:00<?, ?it/s]"
      ]
     },
     "metadata": {},
     "output_type": "display_data"
    },
    {
     "name": "stdout",
     "output_type": "stream",
     "text": [
      "[train]: 7 / 10 | loss: 0.6174524426460266 | acc: 0.6953125\n",
      "[train]: 7 / 10 | loss: 0.6193270768438067 | acc: 0.6785714030265808\n",
      "[train]: 7 / 10 | loss: 0.6264169931411743 | acc: 0.706250011920929\n",
      "[train]: 7 / 10 | loss: 0.6077889593747946 | acc: 0.7211538553237915\n",
      "train Loss: 0.6001 Acc: 0.7297\n"
     ]
    },
    {
     "data": {
      "application/vnd.jupyter.widget-view+json": {
       "model_id": "",
       "version_major": 2,
       "version_minor": 0
      },
      "text/plain": [
       "  0%|          | 0/5 [00:00<?, ?it/s]"
      ]
     },
     "metadata": {},
     "output_type": "display_data"
    },
    {
     "name": "stdout",
     "output_type": "stream",
     "text": [
      "[val]: 7 / 10 | loss: 0.5322884321212769 | acc: 0.71875\n",
      "[val]: 7 / 10 | loss: 0.4671262204647064 | acc: 0.7916666865348816\n",
      "[val]: 7 / 10 | loss: 0.4613325893878937 | acc: 0.7890625\n",
      "[val]: 7 / 10 | loss: 0.4611461728811264 | acc: 0.731249988079071\n",
      "val Loss: 0.4854 Acc: 0.7697\n",
      "\n"
     ]
    },
    {
     "data": {
      "application/vnd.jupyter.widget-view+json": {
       "model_id": "",
       "version_major": 2,
       "version_minor": 0
      },
      "text/plain": [
       "  0%|          | 0/15 [00:00<?, ?it/s]"
      ]
     },
     "metadata": {},
     "output_type": "display_data"
    },
    {
     "name": "stdout",
     "output_type": "stream",
     "text": [
      "[train]: 8 / 10 | loss: 0.5154446363449097 | acc: 0.7578125\n",
      "[train]: 8 / 10 | loss: 0.5217081606388092 | acc: 0.7633928656578064\n",
      "[train]: 8 / 10 | loss: 0.5250707864761353 | acc: 0.7562500238418579\n",
      "[train]: 8 / 10 | loss: 0.5379144228421725 | acc: 0.7524038553237915\n",
      "train Loss: 0.5536 Acc: 0.7495\n"
     ]
    },
    {
     "data": {
      "application/vnd.jupyter.widget-view+json": {
       "model_id": "",
       "version_major": 2,
       "version_minor": 0
      },
      "text/plain": [
       "  0%|          | 0/5 [00:00<?, ?it/s]"
      ]
     },
     "metadata": {},
     "output_type": "display_data"
    },
    {
     "name": "stdout",
     "output_type": "stream",
     "text": [
      "[val]: 8 / 10 | loss: 0.6906060874462128 | acc: 0.671875\n",
      "[val]: 8 / 10 | loss: 0.6629602313041687 | acc: 0.6875\n",
      "[val]: 8 / 10 | loss: 0.6500166952610016 | acc: 0.7109375\n",
      "[val]: 8 / 10 | loss: 0.5840995237231255 | acc: 0.699999988079071\n",
      "val Loss: 0.6148 Acc: 0.7368\n",
      "\n"
     ]
    },
    {
     "data": {
      "application/vnd.jupyter.widget-view+json": {
       "model_id": "",
       "version_major": 2,
       "version_minor": 0
      },
      "text/plain": [
       "  0%|          | 0/15 [00:00<?, ?it/s]"
      ]
     },
     "metadata": {},
     "output_type": "display_data"
    },
    {
     "name": "stdout",
     "output_type": "stream",
     "text": [
      "[train]: 9 / 10 | loss: 0.6046320647001266 | acc: 0.6484375\n",
      "[train]: 9 / 10 | loss: 0.6038409726960319 | acc: 0.6473214030265808\n",
      "[train]: 9 / 10 | loss: 0.5805803596973419 | acc: 0.6781250238418579\n",
      "[train]: 9 / 10 | loss: 0.5610045080001538 | acc: 0.7043269276618958\n",
      "train Loss: 0.5550 Acc: 0.7077\n"
     ]
    },
    {
     "data": {
      "application/vnd.jupyter.widget-view+json": {
       "model_id": "",
       "version_major": 2,
       "version_minor": 0
      },
      "text/plain": [
       "  0%|          | 0/5 [00:00<?, ?it/s]"
      ]
     },
     "metadata": {},
     "output_type": "display_data"
    },
    {
     "name": "stdout",
     "output_type": "stream",
     "text": [
      "[val]: 9 / 10 | loss: 0.5186817348003387 | acc: 0.765625\n",
      "[val]: 9 / 10 | loss: 0.50473020474116 | acc: 0.7604166865348816\n",
      "[val]: 9 / 10 | loss: 0.5248105674982071 | acc: 0.7265625\n",
      "[val]: 9 / 10 | loss: 0.4943931892514229 | acc: 0.706250011920929\n",
      "val Loss: 0.5204 Acc: 0.7434\n",
      "\n"
     ]
    },
    {
     "data": {
      "application/vnd.jupyter.widget-view+json": {
       "model_id": "",
       "version_major": 2,
       "version_minor": 0
      },
      "text/plain": [
       "  0%|          | 0/15 [00:00<?, ?it/s]"
      ]
     },
     "metadata": {},
     "output_type": "display_data"
    },
    {
     "name": "stdout",
     "output_type": "stream",
     "text": [
      "[train]: 10 / 10 | loss: 0.6232877597212791 | acc: 0.765625\n",
      "[train]: 10 / 10 | loss: 0.5345949700900486 | acc: 0.78125\n",
      "[train]: 10 / 10 | loss: 0.5243730932474137 | acc: 0.7749999761581421\n",
      "[train]: 10 / 10 | loss: 0.520140141248703 | acc: 0.776442289352417\n",
      "train Loss: 0.5252 Acc: 0.7714\n"
     ]
    },
    {
     "data": {
      "application/vnd.jupyter.widget-view+json": {
       "model_id": "",
       "version_major": 2,
       "version_minor": 0
      },
      "text/plain": [
       "  0%|          | 0/5 [00:00<?, ?it/s]"
      ]
     },
     "metadata": {},
     "output_type": "display_data"
    },
    {
     "name": "stdout",
     "output_type": "stream",
     "text": [
      "[val]: 10 / 10 | loss: 0.606790155172348 | acc: 0.734375\n",
      "[val]: 10 / 10 | loss: 0.61034627755483 | acc: 0.75\n",
      "[val]: 10 / 10 | loss: 0.6351715326309204 | acc: 0.7421875\n",
      "[val]: 10 / 10 | loss: 0.627553042769432 | acc: 0.699999988079071\n",
      "val Loss: 0.6606 Acc: 0.7368\n",
      "\n",
      "training took 350.2024552822113 seconds\n",
      "              precision    recall  f1-score   support\n",
      "\n",
      "           0       0.91      0.62      0.74        16\n",
      "           1       0.54      0.88      0.67         8\n",
      "\n",
      "    accuracy                           0.71        24\n",
      "   macro avg       0.72      0.75      0.70        24\n",
      "weighted avg       0.79      0.71      0.72        24\n",
      "\n"
     ]
    }
   ],
   "source": [
    "model = train_model(model, criterion, optimizer, num_epochs)\n",
    "# with Grayscale, Rotation and Resizing and normalization\n",
    "# lr = 0.05"
   ]
  },
  {
   "cell_type": "markdown",
   "id": "cc21e0ce",
   "metadata": {},
   "source": [
    "We removed a few augmentation parameters and changed the learning rate to 0.05 in the model above. We saw that we got a much better validation accuracy of 76.97% with a reduced validation loss of 0.48%. The precision also improved drastically."
   ]
  },
  {
   "cell_type": "code",
   "execution_count": 298,
   "id": "14925642",
   "metadata": {},
   "outputs": [
    {
     "data": {
      "application/vnd.jupyter.widget-view+json": {
       "model_id": "",
       "version_major": 2,
       "version_minor": 0
      },
      "text/plain": [
       "  0%|          | 0/10 [00:00<?, ?it/s]"
      ]
     },
     "metadata": {},
     "output_type": "display_data"
    },
    {
     "data": {
      "application/vnd.jupyter.widget-view+json": {
       "model_id": "",
       "version_major": 2,
       "version_minor": 0
      },
      "text/plain": [
       "  0%|          | 0/15 [00:00<?, ?it/s]"
      ]
     },
     "metadata": {},
     "output_type": "display_data"
    },
    {
     "name": "stdout",
     "output_type": "stream",
     "text": [
      "[train]: 1 / 10 | loss: 1.797640547156334 | acc: 0.5234375\n",
      "[train]: 1 / 10 | loss: 2.231843888759613 | acc: 0.5535714030265808\n",
      "[train]: 1 / 10 | loss: 1.914985328912735 | acc: 0.550000011920929\n",
      "[train]: 1 / 10 | loss: 2.0242470502853394 | acc: 0.5625\n",
      "train Loss: 1.9144 Acc: 0.5714\n"
     ]
    },
    {
     "data": {
      "application/vnd.jupyter.widget-view+json": {
       "model_id": "",
       "version_major": 2,
       "version_minor": 0
      },
      "text/plain": [
       "  0%|          | 0/5 [00:00<?, ?it/s]"
      ]
     },
     "metadata": {},
     "output_type": "display_data"
    },
    {
     "name": "stdout",
     "output_type": "stream",
     "text": [
      "[val]: 1 / 10 | loss: 1497.6347961425781 | acc: 0.65625\n",
      "[val]: 1 / 10 | loss: 1341.6764119466145 | acc: 0.6354166865348816\n",
      "[val]: 1 / 10 | loss: 1425.5840911865234 | acc: 0.6171875\n",
      "[val]: 1 / 10 | loss: 1253.599691772461 | acc: 0.5874999761581421\n",
      "val Loss: 1319.5786 Acc: 0.6184\n",
      "\n"
     ]
    },
    {
     "data": {
      "application/vnd.jupyter.widget-view+json": {
       "model_id": "",
       "version_major": 2,
       "version_minor": 0
      },
      "text/plain": [
       "  0%|          | 0/15 [00:00<?, ?it/s]"
      ]
     },
     "metadata": {},
     "output_type": "display_data"
    },
    {
     "name": "stdout",
     "output_type": "stream",
     "text": [
      "[train]: 2 / 10 | loss: 0.7778684943914413 | acc: 0.4453125\n",
      "[train]: 2 / 10 | loss: 0.7354092257363456 | acc: 0.5357142686843872\n",
      "[train]: 2 / 10 | loss: 0.7611473798751831 | acc: 0.5406249761581421\n",
      "[train]: 2 / 10 | loss: 0.7507040408941416 | acc: 0.5721153616905212\n",
      "train Loss: 0.7475 Acc: 0.5824\n"
     ]
    },
    {
     "data": {
      "application/vnd.jupyter.widget-view+json": {
       "model_id": "",
       "version_major": 2,
       "version_minor": 0
      },
      "text/plain": [
       "  0%|          | 0/5 [00:00<?, ?it/s]"
      ]
     },
     "metadata": {},
     "output_type": "display_data"
    },
    {
     "name": "stdout",
     "output_type": "stream",
     "text": [
      "[val]: 2 / 10 | loss: 281.2483596801758 | acc: 0.5625\n",
      "[val]: 2 / 10 | loss: 260.0872548421224 | acc: 0.59375\n",
      "[val]: 2 / 10 | loss: 259.14757919311523 | acc: 0.609375\n",
      "[val]: 2 / 10 | loss: 245.2643829345703 | acc: 0.5874999761581421\n",
      "val Loss: 258.1730 Acc: 0.6184\n",
      "\n"
     ]
    },
    {
     "data": {
      "application/vnd.jupyter.widget-view+json": {
       "model_id": "",
       "version_major": 2,
       "version_minor": 0
      },
      "text/plain": [
       "  0%|          | 0/15 [00:00<?, ?it/s]"
      ]
     },
     "metadata": {},
     "output_type": "display_data"
    },
    {
     "name": "stdout",
     "output_type": "stream",
     "text": [
      "[train]: 3 / 10 | loss: 1.2045308649539948 | acc: 0.6875\n",
      "[train]: 3 / 10 | loss: 1.1627247333526611 | acc: 0.6607142686843872\n",
      "[train]: 3 / 10 | loss: 0.9978379487991333 | acc: 0.659375011920929\n",
      "[train]: 3 / 10 | loss: 1.0040538952900813 | acc: 0.6658653616905212\n",
      "train Loss: 0.9654 Acc: 0.6725\n"
     ]
    },
    {
     "data": {
      "application/vnd.jupyter.widget-view+json": {
       "model_id": "",
       "version_major": 2,
       "version_minor": 0
      },
      "text/plain": [
       "  0%|          | 0/5 [00:00<?, ?it/s]"
      ]
     },
     "metadata": {},
     "output_type": "display_data"
    },
    {
     "name": "stdout",
     "output_type": "stream",
     "text": [
      "[val]: 3 / 10 | loss: 49.756551176309586 | acc: 0.609375\n",
      "[val]: 3 / 10 | loss: 33.3981286684672 | acc: 0.6458333134651184\n",
      "[val]: 3 / 10 | loss: 26.36971950531006 | acc: 0.6796875\n",
      "[val]: 3 / 10 | loss: 21.197475600242615 | acc: 0.643750011920929\n",
      "val Loss: 22.3131 Acc: 0.6776\n",
      "\n"
     ]
    },
    {
     "data": {
      "application/vnd.jupyter.widget-view+json": {
       "model_id": "",
       "version_major": 2,
       "version_minor": 0
      },
      "text/plain": [
       "  0%|          | 0/15 [00:00<?, ?it/s]"
      ]
     },
     "metadata": {},
     "output_type": "display_data"
    },
    {
     "name": "stdout",
     "output_type": "stream",
     "text": [
      "[train]: 4 / 10 | loss: 0.9302631765604019 | acc: 0.515625\n",
      "[train]: 4 / 10 | loss: 1.288168225969587 | acc: 0.5625\n",
      "[train]: 4 / 10 | loss: 1.091775542497635 | acc: 0.628125011920929\n",
      "[train]: 4 / 10 | loss: 0.9710267461263217 | acc: 0.6394230723381042\n",
      "train Loss: 0.9393 Acc: 0.6462\n"
     ]
    },
    {
     "data": {
      "application/vnd.jupyter.widget-view+json": {
       "model_id": "",
       "version_major": 2,
       "version_minor": 0
      },
      "text/plain": [
       "  0%|          | 0/5 [00:00<?, ?it/s]"
      ]
     },
     "metadata": {},
     "output_type": "display_data"
    },
    {
     "name": "stdout",
     "output_type": "stream",
     "text": [
      "[val]: 4 / 10 | loss: 0.6046785414218903 | acc: 0.65625\n",
      "[val]: 4 / 10 | loss: 0.6084988315900167 | acc: 0.6770833134651184\n",
      "[val]: 4 / 10 | loss: 0.6000576764345169 | acc: 0.6953125\n",
      "[val]: 4 / 10 | loss: 0.5625038266181945 | acc: 0.6812499761581421\n",
      "val Loss: 0.5921 Acc: 0.7171\n",
      "\n"
     ]
    },
    {
     "data": {
      "application/vnd.jupyter.widget-view+json": {
       "model_id": "",
       "version_major": 2,
       "version_minor": 0
      },
      "text/plain": [
       "  0%|          | 0/15 [00:00<?, ?it/s]"
      ]
     },
     "metadata": {},
     "output_type": "display_data"
    },
    {
     "name": "stdout",
     "output_type": "stream",
     "text": [
      "[train]: 5 / 10 | loss: 0.7585887610912323 | acc: 0.6171875\n",
      "[train]: 5 / 10 | loss: 0.7043612854821342 | acc: 0.6071428656578064\n",
      "[train]: 5 / 10 | loss: 0.7196903228759766 | acc: 0.6000000238418579\n",
      "[train]: 5 / 10 | loss: 0.9211681989523081 | acc: 0.6394230723381042\n",
      "train Loss: 0.8936 Acc: 0.6462\n"
     ]
    },
    {
     "data": {
      "application/vnd.jupyter.widget-view+json": {
       "model_id": "",
       "version_major": 2,
       "version_minor": 0
      },
      "text/plain": [
       "  0%|          | 0/5 [00:00<?, ?it/s]"
      ]
     },
     "metadata": {},
     "output_type": "display_data"
    },
    {
     "name": "stdout",
     "output_type": "stream",
     "text": [
      "[val]: 5 / 10 | loss: 0.5303521752357483 | acc: 0.859375\n",
      "[val]: 5 / 10 | loss: 0.5586856404940287 | acc: 0.8020833134651184\n",
      "[val]: 5 / 10 | loss: 0.5476794689893723 | acc: 0.8046875\n",
      "[val]: 5 / 10 | loss: 0.5153415471315383 | acc: 0.7562500238418579\n",
      "val Loss: 0.5425 Acc: 0.7961\n",
      "\n"
     ]
    },
    {
     "data": {
      "application/vnd.jupyter.widget-view+json": {
       "model_id": "",
       "version_major": 2,
       "version_minor": 0
      },
      "text/plain": [
       "  0%|          | 0/15 [00:00<?, ?it/s]"
      ]
     },
     "metadata": {},
     "output_type": "display_data"
    },
    {
     "name": "stdout",
     "output_type": "stream",
     "text": [
      "[train]: 6 / 10 | loss: 0.5949958115816116 | acc: 0.7421875\n",
      "[train]: 6 / 10 | loss: 0.5727156230381557 | acc: 0.7455357313156128\n",
      "[train]: 6 / 10 | loss: 0.5577410519123077 | acc: 0.75\n",
      "[train]: 6 / 10 | loss: 0.5416484062488263 | acc: 0.7572115659713745\n",
      "train Loss: 0.5328 Acc: 0.7626\n"
     ]
    },
    {
     "data": {
      "application/vnd.jupyter.widget-view+json": {
       "model_id": "",
       "version_major": 2,
       "version_minor": 0
      },
      "text/plain": [
       "  0%|          | 0/5 [00:00<?, ?it/s]"
      ]
     },
     "metadata": {},
     "output_type": "display_data"
    },
    {
     "name": "stdout",
     "output_type": "stream",
     "text": [
      "[val]: 6 / 10 | loss: 0.4368150383234024 | acc: 0.8125\n",
      "[val]: 6 / 10 | loss: 0.4470260540644328 | acc: 0.8229166865348816\n",
      "[val]: 6 / 10 | loss: 0.41962631791830063 | acc: 0.8359375\n",
      "[val]: 6 / 10 | loss: 0.43059428334236144 | acc: 0.768750011920929\n",
      "val Loss: 0.4533 Acc: 0.8092\n",
      "\n"
     ]
    },
    {
     "data": {
      "application/vnd.jupyter.widget-view+json": {
       "model_id": "",
       "version_major": 2,
       "version_minor": 0
      },
      "text/plain": [
       "  0%|          | 0/15 [00:00<?, ?it/s]"
      ]
     },
     "metadata": {},
     "output_type": "display_data"
    },
    {
     "name": "stdout",
     "output_type": "stream",
     "text": [
      "[train]: 7 / 10 | loss: 0.7074328809976578 | acc: 0.75\n",
      "[train]: 7 / 10 | loss: 0.5788682103157043 | acc: 0.7901785969734192\n",
      "[train]: 7 / 10 | loss: 0.5766310632228852 | acc: 0.7718750238418579\n",
      "[train]: 7 / 10 | loss: 0.6774322115457975 | acc: 0.7572115659713745\n",
      "train Loss: 0.6805 Acc: 0.7516\n"
     ]
    },
    {
     "data": {
      "application/vnd.jupyter.widget-view+json": {
       "model_id": "",
       "version_major": 2,
       "version_minor": 0
      },
      "text/plain": [
       "  0%|          | 0/5 [00:00<?, ?it/s]"
      ]
     },
     "metadata": {},
     "output_type": "display_data"
    },
    {
     "name": "stdout",
     "output_type": "stream",
     "text": [
      "[val]: 7 / 10 | loss: 0.6147299706935883 | acc: 0.75\n",
      "[val]: 7 / 10 | loss: 0.607623298962911 | acc: 0.75\n",
      "[val]: 7 / 10 | loss: 0.6277998089790344 | acc: 0.7265625\n",
      "[val]: 7 / 10 | loss: 0.624057126045227 | acc: 0.668749988079071\n",
      "val Loss: 0.6569 Acc: 0.7039\n",
      "\n"
     ]
    },
    {
     "data": {
      "application/vnd.jupyter.widget-view+json": {
       "model_id": "",
       "version_major": 2,
       "version_minor": 0
      },
      "text/plain": [
       "  0%|          | 0/15 [00:00<?, ?it/s]"
      ]
     },
     "metadata": {},
     "output_type": "display_data"
    },
    {
     "name": "stdout",
     "output_type": "stream",
     "text": [
      "[train]: 8 / 10 | loss: 0.641776978969574 | acc: 0.6484375\n",
      "[train]: 8 / 10 | loss: 0.9010397366115025 | acc: 0.6339285969734192\n",
      "[train]: 8 / 10 | loss: 0.8196878731250763 | acc: 0.625\n",
      "[train]: 8 / 10 | loss: 0.7668965000372666 | acc: 0.6466346383094788\n",
      "train Loss: 0.7948 Acc: 0.6527\n"
     ]
    },
    {
     "data": {
      "application/vnd.jupyter.widget-view+json": {
       "model_id": "",
       "version_major": 2,
       "version_minor": 0
      },
      "text/plain": [
       "  0%|          | 0/5 [00:00<?, ?it/s]"
      ]
     },
     "metadata": {},
     "output_type": "display_data"
    },
    {
     "name": "stdout",
     "output_type": "stream",
     "text": [
      "[val]: 8 / 10 | loss: 9.431941509246826 | acc: 0.640625\n",
      "[val]: 8 / 10 | loss: 11.047828674316406 | acc: 0.6666666865348816\n",
      "[val]: 8 / 10 | loss: 13.991405487060547 | acc: 0.6640625\n",
      "[val]: 8 / 10 | loss: 15.205370044708252 | acc: 0.643750011920929\n",
      "val Loss: 16.0057 Acc: 0.6776\n",
      "\n"
     ]
    },
    {
     "data": {
      "application/vnd.jupyter.widget-view+json": {
       "model_id": "",
       "version_major": 2,
       "version_minor": 0
      },
      "text/plain": [
       "  0%|          | 0/15 [00:00<?, ?it/s]"
      ]
     },
     "metadata": {},
     "output_type": "display_data"
    },
    {
     "name": "stdout",
     "output_type": "stream",
     "text": [
      "[train]: 9 / 10 | loss: 0.6497289091348648 | acc: 0.671875\n",
      "[train]: 9 / 10 | loss: 0.6435165745871407 | acc: 0.65625\n",
      "[train]: 9 / 10 | loss: 0.6864669620990753 | acc: 0.6187499761581421\n",
      "[train]: 9 / 10 | loss: 0.6824638889386103 | acc: 0.6153846383094788\n",
      "train Loss: 0.6719 Acc: 0.6198\n"
     ]
    },
    {
     "data": {
      "application/vnd.jupyter.widget-view+json": {
       "model_id": "",
       "version_major": 2,
       "version_minor": 0
      },
      "text/plain": [
       "  0%|          | 0/5 [00:00<?, ?it/s]"
      ]
     },
     "metadata": {},
     "output_type": "display_data"
    },
    {
     "name": "stdout",
     "output_type": "stream",
     "text": [
      "[val]: 9 / 10 | loss: 30.003320693969727 | acc: 0.5625\n",
      "[val]: 9 / 10 | loss: 25.369866689046223 | acc: 0.5625\n",
      "[val]: 9 / 10 | loss: 19.670658588409424 | acc: 0.609375\n",
      "[val]: 9 / 10 | loss: 18.79532175064087 | acc: 0.5687500238418579\n",
      "val Loss: 19.7845 Acc: 0.5987\n",
      "\n"
     ]
    },
    {
     "data": {
      "application/vnd.jupyter.widget-view+json": {
       "model_id": "",
       "version_major": 2,
       "version_minor": 0
      },
      "text/plain": [
       "  0%|          | 0/15 [00:00<?, ?it/s]"
      ]
     },
     "metadata": {},
     "output_type": "display_data"
    },
    {
     "name": "stdout",
     "output_type": "stream",
     "text": [
      "[train]: 10 / 10 | loss: 0.7909172177314758 | acc: 0.71875\n",
      "[train]: 10 / 10 | loss: 0.687011854989188 | acc: 0.7232142686843872\n",
      "[train]: 10 / 10 | loss: 0.7184037864208221 | acc: 0.703125\n",
      "[train]: 10 / 10 | loss: 0.6921314276181735 | acc: 0.7043269276618958\n",
      "train Loss: 0.6969 Acc: 0.6989\n"
     ]
    },
    {
     "data": {
      "application/vnd.jupyter.widget-view+json": {
       "model_id": "",
       "version_major": 2,
       "version_minor": 0
      },
      "text/plain": [
       "  0%|          | 0/5 [00:00<?, ?it/s]"
      ]
     },
     "metadata": {},
     "output_type": "display_data"
    },
    {
     "name": "stdout",
     "output_type": "stream",
     "text": [
      "[val]: 10 / 10 | loss: 0.6529963910579681 | acc: 0.625\n",
      "[val]: 10 / 10 | loss: 0.6158721645673116 | acc: 0.6666666865348816\n",
      "[val]: 10 / 10 | loss: 0.6433888375759125 | acc: 0.65625\n",
      "[val]: 10 / 10 | loss: 0.6475693136453629 | acc: 0.59375\n",
      "val Loss: 0.6817 Acc: 0.6250\n",
      "\n",
      "training took 96.72470450401306 seconds\n",
      "              precision    recall  f1-score   support\n",
      "\n",
      "           0       0.75      0.35      0.48        17\n",
      "           1       0.31      0.71      0.43         7\n",
      "\n",
      "    accuracy                           0.46        24\n",
      "   macro avg       0.53      0.53      0.46        24\n",
      "weighted avg       0.62      0.46      0.47        24\n",
      "\n"
     ]
    }
   ],
   "source": [
    "model = train_model(model, criterion, optimizer, num_epochs)\n",
    "# with Grayscale and Rotation\n",
    "# lr = 0.05"
   ]
  },
  {
   "cell_type": "markdown",
   "id": "db665b19",
   "metadata": {},
   "source": [
    "In the above model we further removed resizing augmentation as it was taking too long to train the model when resizing to (224,224) pixels from (96,96) pixels. This led to quicker training and improved model accuracy to 80.92%. However, the precision scores slightly dropped here."
   ]
  },
  {
   "cell_type": "code",
   "execution_count": 323,
   "id": "c2e1d33a",
   "metadata": {
    "scrolled": true
   },
   "outputs": [
    {
     "data": {
      "application/vnd.jupyter.widget-view+json": {
       "model_id": "",
       "version_major": 2,
       "version_minor": 0
      },
      "text/plain": [
       "  0%|          | 0/10 [00:00<?, ?it/s]"
      ]
     },
     "metadata": {},
     "output_type": "display_data"
    },
    {
     "data": {
      "application/vnd.jupyter.widget-view+json": {
       "model_id": "",
       "version_major": 2,
       "version_minor": 0
      },
      "text/plain": [
       "  0%|          | 0/15 [00:00<?, ?it/s]"
      ]
     },
     "metadata": {},
     "output_type": "display_data"
    },
    {
     "name": "stdout",
     "output_type": "stream",
     "text": [
      "[train]: 1 / 10 | loss: 0.6303335875272751 | acc: 0.7109375\n",
      "[train]: 1 / 10 | loss: 0.6020825547831399 | acc: 0.7232142686843872\n",
      "[train]: 1 / 10 | loss: 0.6013462990522385 | acc: 0.706250011920929\n",
      "[train]: 1 / 10 | loss: 0.5700593453187209 | acc: 0.7379807829856873\n",
      "train Loss: 0.5959 Acc: 0.7209\n"
     ]
    },
    {
     "data": {
      "application/vnd.jupyter.widget-view+json": {
       "model_id": "",
       "version_major": 2,
       "version_minor": 0
      },
      "text/plain": [
       "  0%|          | 0/5 [00:00<?, ?it/s]"
      ]
     },
     "metadata": {},
     "output_type": "display_data"
    },
    {
     "name": "stdout",
     "output_type": "stream",
     "text": [
      "[val]: 1 / 10 | loss: 1.0560608208179474 | acc: 0.625\n",
      "[val]: 1 / 10 | loss: 1.6761408050855 | acc: 0.625\n",
      "[val]: 1 / 10 | loss: 1.4080122262239456 | acc: 0.625\n",
      "[val]: 1 / 10 | loss: 1.2083460539579391 | acc: 0.6000000238418579\n",
      "val Loss: 1.2719 Acc: 0.6316\n",
      "\n"
     ]
    },
    {
     "data": {
      "application/vnd.jupyter.widget-view+json": {
       "model_id": "",
       "version_major": 2,
       "version_minor": 0
      },
      "text/plain": [
       "  0%|          | 0/15 [00:00<?, ?it/s]"
      ]
     },
     "metadata": {},
     "output_type": "display_data"
    },
    {
     "name": "stdout",
     "output_type": "stream",
     "text": [
      "[train]: 2 / 10 | loss: 1.80233833193779 | acc: 0.5625\n",
      "[train]: 2 / 10 | loss: 1.530091907296862 | acc: 0.5758928656578064\n",
      "[train]: 2 / 10 | loss: 1.2890966653823852 | acc: 0.5874999761581421\n",
      "[train]: 2 / 10 | loss: 1.1418133836526136 | acc: 0.598557710647583\n",
      "train Loss: 1.0898 Acc: 0.6132\n"
     ]
    },
    {
     "data": {
      "application/vnd.jupyter.widget-view+json": {
       "model_id": "",
       "version_major": 2,
       "version_minor": 0
      },
      "text/plain": [
       "  0%|          | 0/5 [00:00<?, ?it/s]"
      ]
     },
     "metadata": {},
     "output_type": "display_data"
    },
    {
     "name": "stdout",
     "output_type": "stream",
     "text": [
      "[val]: 2 / 10 | loss: 14.790156364440918 | acc: 0.765625\n",
      "[val]: 2 / 10 | loss: 14.817012468973795 | acc: 0.75\n",
      "[val]: 2 / 10 | loss: 13.556708335876465 | acc: 0.75\n",
      "[val]: 2 / 10 | loss: 11.839256501197815 | acc: 0.7124999761581421\n",
      "val Loss: 12.4624 Acc: 0.7500\n",
      "\n"
     ]
    },
    {
     "data": {
      "application/vnd.jupyter.widget-view+json": {
       "model_id": "",
       "version_major": 2,
       "version_minor": 0
      },
      "text/plain": [
       "  0%|          | 0/15 [00:00<?, ?it/s]"
      ]
     },
     "metadata": {},
     "output_type": "display_data"
    },
    {
     "name": "stdout",
     "output_type": "stream",
     "text": [
      "[train]: 3 / 10 | loss: 0.7374498099088669 | acc: 0.6015625\n",
      "[train]: 3 / 10 | loss: 0.6745943597384861 | acc: 0.5982142686843872\n",
      "[train]: 3 / 10 | loss: 0.7854062497615815 | acc: 0.637499988079071\n",
      "[train]: 3 / 10 | loss: 0.7368424030450674 | acc: 0.6346153616905212\n",
      "train Loss: 0.7192 Acc: 0.6396\n"
     ]
    },
    {
     "data": {
      "application/vnd.jupyter.widget-view+json": {
       "model_id": "",
       "version_major": 2,
       "version_minor": 0
      },
      "text/plain": [
       "  0%|          | 0/5 [00:00<?, ?it/s]"
      ]
     },
     "metadata": {},
     "output_type": "display_data"
    },
    {
     "name": "stdout",
     "output_type": "stream",
     "text": [
      "[val]: 3 / 10 | loss: 0.862510621547699 | acc: 0.8125\n",
      "[val]: 3 / 10 | loss: 0.6964584589004517 | acc: 0.8020833134651184\n",
      "[val]: 3 / 10 | loss: 3.227171391248703 | acc: 0.8046875\n",
      "[val]: 3 / 10 | loss: 2.6438832387328146 | acc: 0.75\n",
      "val Loss: 2.7830 Acc: 0.7895\n",
      "\n"
     ]
    },
    {
     "data": {
      "application/vnd.jupyter.widget-view+json": {
       "model_id": "",
       "version_major": 2,
       "version_minor": 0
      },
      "text/plain": [
       "  0%|          | 0/15 [00:00<?, ?it/s]"
      ]
     },
     "metadata": {},
     "output_type": "display_data"
    },
    {
     "name": "stdout",
     "output_type": "stream",
     "text": [
      "[train]: 4 / 10 | loss: 0.6216750741004944 | acc: 0.734375\n",
      "[train]: 4 / 10 | loss: 0.6484321270670209 | acc: 0.7053571343421936\n",
      "[train]: 4 / 10 | loss: 0.5989963382482528 | acc: 0.731249988079071\n",
      "[train]: 4 / 10 | loss: 0.606249233851066 | acc: 0.7259615659713745\n",
      "train Loss: 0.6047 Acc: 0.7209\n"
     ]
    },
    {
     "data": {
      "application/vnd.jupyter.widget-view+json": {
       "model_id": "",
       "version_major": 2,
       "version_minor": 0
      },
      "text/plain": [
       "  0%|          | 0/5 [00:00<?, ?it/s]"
      ]
     },
     "metadata": {},
     "output_type": "display_data"
    },
    {
     "name": "stdout",
     "output_type": "stream",
     "text": [
      "[val]: 4 / 10 | loss: 0.7490854561328888 | acc: 0.6875\n",
      "[val]: 4 / 10 | loss: 0.6922968228658041 | acc: 0.6979166865348816\n",
      "[val]: 4 / 10 | loss: 0.6577835530042648 | acc: 0.6875\n",
      "[val]: 4 / 10 | loss: 0.5889578953385353 | acc: 0.668749988079071\n",
      "val Loss: 0.6200 Acc: 0.7039\n",
      "\n"
     ]
    },
    {
     "data": {
      "application/vnd.jupyter.widget-view+json": {
       "model_id": "",
       "version_major": 2,
       "version_minor": 0
      },
      "text/plain": [
       "  0%|          | 0/15 [00:00<?, ?it/s]"
      ]
     },
     "metadata": {},
     "output_type": "display_data"
    },
    {
     "name": "stdout",
     "output_type": "stream",
     "text": [
      "[train]: 5 / 10 | loss: 0.6060367524623871 | acc: 0.671875\n",
      "[train]: 5 / 10 | loss: 0.5798781854765755 | acc: 0.6741071343421936\n",
      "[train]: 5 / 10 | loss: 0.6916528642177582 | acc: 0.640625\n",
      "[train]: 5 / 10 | loss: 0.6803017121094924 | acc: 0.661057710647583\n",
      "train Loss: 0.6725 Acc: 0.6593\n"
     ]
    },
    {
     "data": {
      "application/vnd.jupyter.widget-view+json": {
       "model_id": "",
       "version_major": 2,
       "version_minor": 0
      },
      "text/plain": [
       "  0%|          | 0/5 [00:00<?, ?it/s]"
      ]
     },
     "metadata": {},
     "output_type": "display_data"
    },
    {
     "name": "stdout",
     "output_type": "stream",
     "text": [
      "[val]: 5 / 10 | loss: 0.5612123608589172 | acc: 0.71875\n",
      "[val]: 5 / 10 | loss: 0.5331443548202515 | acc: 0.7395833134651184\n",
      "[val]: 5 / 10 | loss: 0.5308849364519119 | acc: 0.7421875\n",
      "[val]: 5 / 10 | loss: 0.514234972000122 | acc: 0.6937500238418579\n",
      "val Loss: 0.5413 Acc: 0.7303\n",
      "\n"
     ]
    },
    {
     "data": {
      "application/vnd.jupyter.widget-view+json": {
       "model_id": "",
       "version_major": 2,
       "version_minor": 0
      },
      "text/plain": [
       "  0%|          | 0/15 [00:00<?, ?it/s]"
      ]
     },
     "metadata": {},
     "output_type": "display_data"
    },
    {
     "name": "stdout",
     "output_type": "stream",
     "text": [
      "[train]: 6 / 10 | loss: 0.5633805245161057 | acc: 0.6875\n",
      "[train]: 6 / 10 | loss: 0.609045684337616 | acc: 0.6785714030265808\n",
      "[train]: 6 / 10 | loss: 0.5857888758182526 | acc: 0.6968749761581421\n",
      "[train]: 6 / 10 | loss: 0.64057123202544 | acc: 0.7067307829856873\n",
      "train Loss: 0.6278 Acc: 0.7143\n"
     ]
    },
    {
     "data": {
      "application/vnd.jupyter.widget-view+json": {
       "model_id": "",
       "version_major": 2,
       "version_minor": 0
      },
      "text/plain": [
       "  0%|          | 0/5 [00:00<?, ?it/s]"
      ]
     },
     "metadata": {},
     "output_type": "display_data"
    },
    {
     "name": "stdout",
     "output_type": "stream",
     "text": [
      "[val]: 6 / 10 | loss: 0.46392491459846497 | acc: 0.765625\n",
      "[val]: 6 / 10 | loss: 0.4552494287490845 | acc: 0.7604166865348816\n",
      "[val]: 6 / 10 | loss: 0.48312999308109283 | acc: 0.7734375\n",
      "[val]: 6 / 10 | loss: 0.45556299537420275 | acc: 0.731249988079071\n",
      "val Loss: 0.4795 Acc: 0.7697\n",
      "\n"
     ]
    },
    {
     "data": {
      "application/vnd.jupyter.widget-view+json": {
       "model_id": "",
       "version_major": 2,
       "version_minor": 0
      },
      "text/plain": [
       "  0%|          | 0/15 [00:00<?, ?it/s]"
      ]
     },
     "metadata": {},
     "output_type": "display_data"
    },
    {
     "name": "stdout",
     "output_type": "stream",
     "text": [
      "[train]: 7 / 10 | loss: 0.5913912281394005 | acc: 0.7109375\n",
      "[train]: 7 / 10 | loss: 0.5513621951852526 | acc: 0.7366071343421936\n",
      "[train]: 7 / 10 | loss: 0.5475167125463486 | acc: 0.721875011920929\n",
      "[train]: 7 / 10 | loss: 0.5721489076430981 | acc: 0.7091346383094788\n",
      "train Loss: 0.5663 Acc: 0.7099\n"
     ]
    },
    {
     "data": {
      "application/vnd.jupyter.widget-view+json": {
       "model_id": "",
       "version_major": 2,
       "version_minor": 0
      },
      "text/plain": [
       "  0%|          | 0/5 [00:00<?, ?it/s]"
      ]
     },
     "metadata": {},
     "output_type": "display_data"
    },
    {
     "name": "stdout",
     "output_type": "stream",
     "text": [
      "[val]: 7 / 10 | loss: 0.4822661578655243 | acc: 0.734375\n",
      "[val]: 7 / 10 | loss: 0.4541634221871694 | acc: 0.75\n",
      "[val]: 7 / 10 | loss: 0.45207469910383224 | acc: 0.765625\n",
      "[val]: 7 / 10 | loss: 0.43482475727796555 | acc: 0.731249988079071\n",
      "val Loss: 0.4577 Acc: 0.7697\n",
      "\n"
     ]
    },
    {
     "data": {
      "application/vnd.jupyter.widget-view+json": {
       "model_id": "",
       "version_major": 2,
       "version_minor": 0
      },
      "text/plain": [
       "  0%|          | 0/15 [00:00<?, ?it/s]"
      ]
     },
     "metadata": {},
     "output_type": "display_data"
    },
    {
     "name": "stdout",
     "output_type": "stream",
     "text": [
      "[train]: 8 / 10 | loss: 0.524489089846611 | acc: 0.75\n",
      "[train]: 8 / 10 | loss: 0.48984407101358685 | acc: 0.7901785969734192\n",
      "[train]: 8 / 10 | loss: 0.49236557483673093 | acc: 0.784375011920929\n",
      "[train]: 8 / 10 | loss: 0.5076471979801471 | acc: 0.7692307829856873\n",
      "train Loss: 0.5107 Acc: 0.7604\n"
     ]
    },
    {
     "data": {
      "application/vnd.jupyter.widget-view+json": {
       "model_id": "",
       "version_major": 2,
       "version_minor": 0
      },
      "text/plain": [
       "  0%|          | 0/5 [00:00<?, ?it/s]"
      ]
     },
     "metadata": {},
     "output_type": "display_data"
    },
    {
     "name": "stdout",
     "output_type": "stream",
     "text": [
      "[val]: 8 / 10 | loss: 0.44103318452835083 | acc: 0.75\n",
      "[val]: 8 / 10 | loss: 0.463188111782074 | acc: 0.75\n",
      "[val]: 8 / 10 | loss: 0.4671998769044876 | acc: 0.765625\n",
      "[val]: 8 / 10 | loss: 0.4511182874441147 | acc: 0.7437499761581421\n",
      "val Loss: 0.4749 Acc: 0.7829\n",
      "\n"
     ]
    },
    {
     "data": {
      "application/vnd.jupyter.widget-view+json": {
       "model_id": "",
       "version_major": 2,
       "version_minor": 0
      },
      "text/plain": [
       "  0%|          | 0/15 [00:00<?, ?it/s]"
      ]
     },
     "metadata": {},
     "output_type": "display_data"
    },
    {
     "name": "stdout",
     "output_type": "stream",
     "text": [
      "[train]: 9 / 10 | loss: 0.5101481229066849 | acc: 0.7421875\n",
      "[train]: 9 / 10 | loss: 0.5017084862504687 | acc: 0.7455357313156128\n",
      "[train]: 9 / 10 | loss: 0.5302071392536163 | acc: 0.75\n",
      "[train]: 9 / 10 | loss: 0.5159732676469363 | acc: 0.7668269276618958\n",
      "train Loss: 0.5305 Acc: 0.7648\n"
     ]
    },
    {
     "data": {
      "application/vnd.jupyter.widget-view+json": {
       "model_id": "",
       "version_major": 2,
       "version_minor": 0
      },
      "text/plain": [
       "  0%|          | 0/5 [00:00<?, ?it/s]"
      ]
     },
     "metadata": {},
     "output_type": "display_data"
    },
    {
     "name": "stdout",
     "output_type": "stream",
     "text": [
      "[val]: 9 / 10 | loss: 0.5143623948097229 | acc: 0.84375\n",
      "[val]: 9 / 10 | loss: 0.5113275845845541 | acc: 0.84375\n",
      "[val]: 9 / 10 | loss: 0.5047303438186646 | acc: 0.828125\n",
      "[val]: 9 / 10 | loss: 0.47258559614419937 | acc: 0.7875000238418579\n",
      "val Loss: 0.4975 Acc: 0.8289\n",
      "\n"
     ]
    },
    {
     "data": {
      "application/vnd.jupyter.widget-view+json": {
       "model_id": "",
       "version_major": 2,
       "version_minor": 0
      },
      "text/plain": [
       "  0%|          | 0/15 [00:00<?, ?it/s]"
      ]
     },
     "metadata": {},
     "output_type": "display_data"
    },
    {
     "name": "stdout",
     "output_type": "stream",
     "text": [
      "[train]: 10 / 10 | loss: 0.6017330437898636 | acc: 0.703125\n",
      "[train]: 10 / 10 | loss: 0.6023830856595721 | acc: 0.7455357313156128\n",
      "[train]: 10 / 10 | loss: 0.6124690741300582 | acc: 0.7406250238418579\n",
      "[train]: 10 / 10 | loss: 0.6442943100745862 | acc: 0.7403846383094788\n",
      "train Loss: 0.6544 Acc: 0.7407\n"
     ]
    },
    {
     "data": {
      "application/vnd.jupyter.widget-view+json": {
       "model_id": "",
       "version_major": 2,
       "version_minor": 0
      },
      "text/plain": [
       "  0%|          | 0/5 [00:00<?, ?it/s]"
      ]
     },
     "metadata": {},
     "output_type": "display_data"
    },
    {
     "name": "stdout",
     "output_type": "stream",
     "text": [
      "[val]: 10 / 10 | loss: 0.49664366245269775 | acc: 0.765625\n",
      "[val]: 10 / 10 | loss: 0.4752075970172882 | acc: 0.7708333134651184\n",
      "[val]: 10 / 10 | loss: 0.4758124426007271 | acc: 0.7734375\n",
      "[val]: 10 / 10 | loss: 0.45581667125225067 | acc: 0.737500011920929\n",
      "val Loss: 0.4798 Acc: 0.7763\n",
      "\n",
      "training took 83.37504482269287 seconds\n",
      "              precision    recall  f1-score   support\n",
      "\n",
      "           0       0.76      0.93      0.84        14\n",
      "           1       0.86      0.60      0.71        10\n",
      "\n",
      "    accuracy                           0.79        24\n",
      "   macro avg       0.81      0.76      0.77        24\n",
      "weighted avg       0.80      0.79      0.78        24\n",
      "\n"
     ]
    }
   ],
   "source": [
    "model = train_model(model, criterion, optimizer, num_epochs)\n",
    "# Only Normalize without any other augmentation\n",
    "# Lr = 0.05\n",
    "# model accuracy improved to 82.89%\n",
    "# The precision for both positive and negative classes also improved"
   ]
  },
  {
   "cell_type": "markdown",
   "id": "33841ecf",
   "metadata": {},
   "source": [
    "In the final model execution above we removed all augmentation criterion and included only normalization of our data. We saw a consistently good performance for both training and validation datasets. The val accuracy improved to 82.89%. The training and validation loss difference is also reducing gradually keeping under 10%. We can say that our model is not overfitting. Also, we saw that the precision scores greatly improved here. Hence, we save this as our final model."
   ]
  },
  {
   "cell_type": "code",
   "execution_count": 324,
   "id": "6bd1fa24",
   "metadata": {},
   "outputs": [],
   "source": [
    "torch.save(model, f = './resnet18model.pth')"
   ]
  }
 ],
 "metadata": {
  "accelerator": "GPU",
  "colab": {
   "collapsed_sections": [
    "PYuhlXCOwuzm",
    "4fl4nxOrSYvf"
   ],
   "provenance": []
  },
  "gpuClass": "standard",
  "kernelspec": {
   "display_name": "Python 3 (ipykernel)",
   "language": "python",
   "name": "python3"
  },
  "language_info": {
   "codemirror_mode": {
    "name": "ipython",
    "version": 3
   },
   "file_extension": ".py",
   "mimetype": "text/x-python",
   "name": "python",
   "nbconvert_exporter": "python",
   "pygments_lexer": "ipython3",
   "version": "3.9.13"
  }
 },
 "nbformat": 4,
 "nbformat_minor": 5
}
